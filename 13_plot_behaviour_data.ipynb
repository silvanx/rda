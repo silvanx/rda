{
 "cells": [
  {
   "cell_type": "code",
   "execution_count": null,
   "metadata": {},
   "outputs": [],
   "source": [
    "import pandas as pd\n",
    "import seaborn as sns\n",
    "import matplotlib.pyplot as plt\n",
    "import pandasgui as pgui\n",
    "from ratdata import plot as rdplot"
   ]
  },
  {
   "cell_type": "code",
   "execution_count": null,
   "metadata": {},
   "outputs": [],
   "source": [
    "ohda_behaviour_file = 'data/behaviour_data_ohda.csv'\n",
    "sham_behaviour_file = 'data/behaviour_data_sham.csv'\n"
   ]
  },
  {
   "cell_type": "code",
   "execution_count": null,
   "metadata": {},
   "outputs": [],
   "source": [
    "ohda_df = pd.read_csv(ohda_behaviour_file, sep='\\t')\n",
    "sham_df = pd.read_csv(sham_behaviour_file, sep='\\t')"
   ]
  },
  {
   "cell_type": "code",
   "execution_count": null,
   "metadata": {},
   "outputs": [],
   "source": [
    "ohda_df_melted = pd.melt(ohda_df.drop(labels='rat', axis=1)).dropna()\n",
    "sham_df_melted = pd.melt(sham_df.drop(labels='rat', axis=1)).dropna()"
   ]
  },
  {
   "cell_type": "code",
   "execution_count": null,
   "metadata": {},
   "outputs": [],
   "source": [
    "# pgui.show(ohda_df_melted)"
   ]
  },
  {
   "cell_type": "code",
   "execution_count": null,
   "metadata": {},
   "outputs": [],
   "source": [
    "label_order = ['nostim', 'continuous', 'on-off', 'random',\n",
    "                   'proportional', 'low', 'low20']\n",
    "plt.figure(figsize=(12,6))\n",
    "sns.boxplot(x='variable', y='value', order=label_order, data=ohda_df_melted,\n",
    "            palette=rdplot.my_palette, boxprops=dict(alpha=rdplot.boxplot_alpha))\n",
    "sns.swarmplot(x='variable', y='value', data=ohda_df_melted, palette=rdplot.my_palette,\n",
    "                order=label_order)\n",
    "plt.xlabel('Stimulation')\n",
    "plt.ylabel('Contralateral paw use [%]')"
   ]
  },
  {
   "cell_type": "code",
   "execution_count": null,
   "metadata": {},
   "outputs": [],
   "source": [
    "label_order = ['nostim', 'continuous', 'on-off', 'random',\n",
    "                   'proportional']\n",
    "plt.figure(figsize=(12,6))\n",
    "sns.boxplot(x='variable', y='value', order=label_order, data=sham_df_melted,\n",
    "            palette=rdplot.my_palette, boxprops=dict(alpha=rdplot.boxplot_alpha))\n",
    "sns.swarmplot(x='variable', y='value', data=sham_df_melted, palette=rdplot.my_palette,\n",
    "                order=label_order)\n",
    "plt.xlabel('Stimulation')\n",
    "plt.ylabel('Contralateral paw use [%]')"
   ]
  },
  {
   "cell_type": "code",
   "execution_count": null,
   "metadata": {},
   "outputs": [],
   "source": []
  }
 ],
 "metadata": {
  "interpreter": {
   "hash": "71ecfc0ae2bb458425d39bf321c634e8cafd0685753a20a4aa768ea01a8df2c2"
  },
  "kernelspec": {
   "display_name": "Python 3.9.5 ('venv': venv)",
   "language": "python",
   "name": "python3"
  },
  "language_info": {
   "codemirror_mode": {
    "name": "ipython",
    "version": 3
   },
   "file_extension": ".py",
   "mimetype": "text/x-python",
   "name": "python",
   "nbconvert_exporter": "python",
   "pygments_lexer": "ipython3",
   "version": "3.9.5"
  }
 },
 "nbformat": 4,
 "nbformat_minor": 2
}
