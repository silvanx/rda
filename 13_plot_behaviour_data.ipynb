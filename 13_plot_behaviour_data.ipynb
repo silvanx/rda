{
 "cells": [
  {
   "cell_type": "code",
   "execution_count": null,
   "metadata": {},
   "outputs": [],
   "source": [
    "import pandas as pd\n",
    "import seaborn as sns\n",
    "import matplotlib.pyplot as plt\n",
    "import pandasgui as pgui\n",
    "from ratdata import plot as rdplot"
   ]
  },
  {
   "cell_type": "code",
   "execution_count": null,
   "metadata": {},
   "outputs": [],
   "source": [
    "ohda_ct = 'data/behaviour_data_ct_ohda.csv'\n",
    "sham_ct = 'data/behaviour_data_ct_sham.csv'\n",
    "ohda_st = 'data/behaviour_data_st_ohda.csv'\n",
    "sham_st = 'data/behaviour_data_st_sham.csv'\n"
   ]
  },
  {
   "cell_type": "code",
   "execution_count": null,
   "metadata": {},
   "outputs": [],
   "source": [
    "ohda_ct_df = pd.melt(pd.read_csv(ohda_ct, sep='\\t').drop(labels='rat', axis=1)).dropna()\n",
    "sham_ct_df = pd.melt(pd.read_csv(sham_ct, sep='\\t').drop(labels='rat', axis=1)).dropna()\n",
    "ohda_st_df = pd.melt(pd.read_csv(ohda_st, sep='\\t').drop(labels='rat', axis=1)).dropna()\n",
    "sham_st_df = pd.melt(pd.read_csv(sham_st, sep='\\t').drop(labels='rat', axis=1)).dropna()"
   ]
  },
  {
   "cell_type": "code",
   "execution_count": null,
   "metadata": {},
   "outputs": [],
   "source": [
    "# pgui.show(ohda_df_melted)"
   ]
  },
  {
   "cell_type": "code",
   "execution_count": null,
   "metadata": {},
   "outputs": [],
   "source": [
    "label_order = ['nostim', 'continuous', 'on-off', 'random',\n",
    "               'proportional', 'low', 'low20']\n",
    "plot_filename = 'plots/behaviour/behaviour_ct_ohda.png'\n",
    "rdplot.plot_behaviour_data(ohda_ct_df, label_order, 'Behavioural results of stimulation, cylinder test, 6-OHDA rats', plot_filename)\n"
   ]
  },
  {
   "cell_type": "code",
   "execution_count": null,
   "metadata": {},
   "outputs": [],
   "source": [
    "label_order = ['nostim', 'continuous', 'on-off', 'random',\n",
    "               'proportional']\n",
    "plot_filename = 'plots/behaviour/behaviour_ct_sham.png'\n",
    "rdplot.plot_behaviour_data(sham_ct_df, label_order, 'Behavioural results of stimulation, cylinder test, sham rats', plot_filename)"
   ]
  },
  {
   "cell_type": "code",
   "execution_count": null,
   "metadata": {},
   "outputs": [],
   "source": [
    "label_order = ['nostim', 'continuous', 'on-off', 'random',\n",
    "               'proportional', 'low', 'low20']\n",
    "plot_filename = 'plots/behaviour/behaviour_st_ohda.png'\n",
    "rdplot.plot_behaviour_data(ohda_st_df, label_order, 'Behavioural results of stimulation, stepping test, 6-OHDA rats', plot_filename)"
   ]
  },
  {
   "cell_type": "code",
   "execution_count": null,
   "metadata": {},
   "outputs": [],
   "source": [
    "label_order = ['nostim', 'continuous', 'on-off', 'random',\n",
    "               'proportional']\n",
    "plot_filename = 'plots/behaviour/behaviour_st_sham.png'\n",
    "rdplot.plot_behaviour_data(sham_st_df, label_order, 'Behavioural results of stimulation, stepping test, sham rats', plot_filename)"
   ]
  }
 ],
 "metadata": {
  "interpreter": {
   "hash": "71ecfc0ae2bb458425d39bf321c634e8cafd0685753a20a4aa768ea01a8df2c2"
  },
  "kernelspec": {
   "display_name": "Python 3.9.5 ('venv': venv)",
   "language": "python",
   "name": "python3"
  },
  "language_info": {
   "codemirror_mode": {
    "name": "ipython",
    "version": 3
   },
   "file_extension": ".py",
   "mimetype": "text/x-python",
   "name": "python",
   "nbconvert_exporter": "python",
   "pygments_lexer": "ipython3",
   "version": "3.9.5"
  }
 },
 "nbformat": 4,
 "nbformat_minor": 2
}
