{
 "cells": [
  {
   "cell_type": "code",
   "execution_count": null,
   "metadata": {},
   "outputs": [],
   "source": [
    "import pandas as pd\n",
    "from ratdata import plot as rdplot"
   ]
  },
  {
   "cell_type": "code",
   "execution_count": null,
   "metadata": {},
   "outputs": [],
   "source": [
    "ohda_ct = 'data/behaviour_data_ct_ohda.csv'\n",
    "sham_ct = 'data/behaviour_data_ct_sham.csv'\n",
    "ohda_st = 'data/behaviour_data_st_ohda.csv'\n",
    "sham_st = 'data/behaviour_data_st_sham.csv'\n",
    "ohda_oft = 'data/behaviour_data_oft_ohda.csv'\n",
    "sham_oft = 'data/behaviour_data_oft_sham.csv'\n"
   ]
  },
  {
   "cell_type": "code",
   "execution_count": null,
   "metadata": {},
   "outputs": [],
   "source": [
    "ohda_ct_df = pd.melt(pd.read_csv(ohda_ct, sep='\\t').drop(labels='rat', axis=1)).dropna()\n",
    "sham_ct_df = pd.melt(pd.read_csv(sham_ct, sep='\\t').drop(labels='rat', axis=1)).dropna()\n",
    "ohda_st_df = pd.melt(pd.read_csv(ohda_st, sep='\\t').drop(labels='rat', axis=1)).dropna()\n",
    "sham_st_df = pd.melt(pd.read_csv(sham_st, sep='\\t').drop(labels='rat', axis=1)).dropna()\n",
    "ohda_oft_df = pd.melt(pd.read_csv(ohda_oft, sep='\\t').drop(labels='rat', axis=1)).dropna()\n",
    "sham_oft_df = pd.melt(pd.read_csv(sham_oft, sep='\\t').drop(labels='rat', axis=1)).dropna()"
   ]
  },
  {
   "cell_type": "code",
   "execution_count": null,
   "metadata": {},
   "outputs": [],
   "source": [
    "# pgui.show(sham_st_df)"
   ]
  },
  {
   "cell_type": "code",
   "execution_count": null,
   "metadata": {},
   "outputs": [],
   "source": [
    "label_order = ['nostim', 'continuous', 'on-off', 'proportional', 'random', 'low', 'low20']\n",
    "plot_filename = 'plots/behaviour/behaviour_ct_ohda.svg'\n",
    "rdplot.plot_behaviour_data(ohda_ct_df, label_order, 'Behavioural results of stimulation, cylinder test, 6-OHDA rats', plot_filename)\n"
   ]
  },
  {
   "cell_type": "code",
   "execution_count": null,
   "metadata": {},
   "outputs": [],
   "source": [
    "label_order = ['nostim', 'continuous', 'on-off', 'proportional', 'random', 'low', 'low20']\n",
    "plot_filename = 'plots/behaviour/behaviour_ct_sham.svg'\n",
    "rdplot.plot_behaviour_data(sham_ct_df, label_order, 'Behavioural results of stimulation, cylinder test, sham rats', plot_filename)"
   ]
  },
  {
   "cell_type": "code",
   "execution_count": null,
   "metadata": {},
   "outputs": [],
   "source": [
    "label_order = ['nostim', 'continuous', 'on-off', 'proportional', 'random', 'low', 'low20']\n",
    "plot_filename = 'plots/behaviour/behaviour_st_ohda.png'\n",
    "rdplot.plot_behaviour_data(ohda_st_df, label_order, 'Behavioural results of stimulation, stepping test, 6-OHDA rats', plot_filename)"
   ]
  },
  {
   "cell_type": "code",
   "execution_count": null,
   "metadata": {},
   "outputs": [],
   "source": [
    "label_order = ['nostim', 'continuous', 'on-off', 'proportional', 'random', 'low', 'low20']\n",
    "plot_filename = 'plots/behaviour/behaviour_st_sham.png'\n",
    "rdplot.plot_behaviour_data(sham_st_df, label_order, 'Behavioural results of stimulation, stepping test, sham rats', plot_filename)"
   ]
  },
  {
   "cell_type": "code",
   "execution_count": null,
   "metadata": {},
   "outputs": [],
   "source": [
    "label_order = ['nostim', 'continuous', 'on-off', 'proportional', 'random', 'low', 'low20']\n",
    "plot_filename = 'plots/behaviour/behaviour_oft_sham.png'\n",
    "rdplot.plot_behaviour_data(sham_oft_df, label_order, 'Behavioural results of stimulation, open field test, sham rats', plot_filename, ylim=[1000, 4000])"
   ]
  },
  {
   "cell_type": "code",
   "execution_count": null,
   "metadata": {},
   "outputs": [],
   "source": [
    "label_order = ['nostim', 'continuous', 'on-off', 'proportional', 'random', 'low', 'low20']\n",
    "plot_filename = 'plots/behaviour/behaviour_oft_ohda.png'\n",
    "rdplot.plot_behaviour_data(ohda_oft_df, label_order, 'Behavioural results of stimulation, open field test, 6-OHDA rats', plot_filename, ylim=[1000, 4000])"
   ]
  },
  {
   "cell_type": "code",
   "execution_count": null,
   "metadata": {},
   "outputs": [],
   "source": [
    "# plot_filename = None\n",
    "plot_filename = 'plots/behaviour/behaviour_all.svg'\n",
    "labels_ohda = ['nostim', 'continuous', 'on-off', 'proportional', 'random', 'low', 'low20']\n",
    "labels_sham = ['nostim', 'continuous', 'on-off', 'proportional', 'random', 'low', 'low20']\n",
    "plot_titles = ['CT 6OHDA', 'CT SHAM', 'ST 6OHDA', 'ST SHAM', 'OFT 6OHDA', 'OFT SHAM']\n",
    "rdplot.plot_all_behaviour_data([ohda_ct_df, sham_ct_df, ohda_st_df, sham_st_df, ohda_oft_df, sham_oft_df], labels_ohda, labels_sham, plot_titles, plot_filename)"
   ]
  }
 ],
 "metadata": {
  "interpreter": {
   "hash": "71ecfc0ae2bb458425d39bf321c634e8cafd0685753a20a4aa768ea01a8df2c2"
  },
  "kernelspec": {
   "display_name": "Python 3.9.5 ('venv': venv)",
   "language": "python",
   "name": "python3"
  },
  "language_info": {
   "codemirror_mode": {
    "name": "ipython",
    "version": 3
   },
   "file_extension": ".py",
   "mimetype": "text/x-python",
   "name": "python",
   "nbconvert_exporter": "python",
   "pygments_lexer": "ipython3",
   "version": "3.9.5"
  }
 },
 "nbformat": 4,
 "nbformat_minor": 2
}
