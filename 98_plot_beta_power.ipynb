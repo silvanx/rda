{
 "cells": [
  {
   "cell_type": "code",
   "execution_count": null,
   "metadata": {},
   "outputs": [],
   "source": [
    "from ratdata import data_manager as dm, plot as rdplot\n",
    "import pandas as pd\n",
    "import seaborn as sns\n",
    "import matplotlib.pyplot as plt"
   ]
  },
  {
   "cell_type": "code",
   "execution_count": null,
   "metadata": {},
   "outputs": [],
   "source": [
    "dm.db_connect('rat_data.db')"
   ]
  },
  {
   "cell_type": "code",
   "execution_count": null,
   "metadata": {},
   "outputs": [],
   "source": [
    "fontsize = 30\n",
    "fontsize_ax = 22"
   ]
  },
  {
   "cell_type": "code",
   "execution_count": null,
   "metadata": {},
   "outputs": [],
   "source": [
    "change_relative_beta_dfs = []\n",
    "relative_beta_dfs = []\n",
    "change_relative_beta_sham_dfs = []\n",
    "relative_beta_sham_dfs = []\n",
    "for r in dm.Rat.select():\n",
    "    # rdplot.plot_beta_one_rat(r.full_label, img_filename='plots/beta_rat/beta_no_oof_%s.png' % r.full_label, remove_oof=True)\n",
    "    rbdf = rdplot.plot_relative_beta_one_rat(r.full_label, img_filename='plots/beta_rat/relative_beta_%s.png' % r.full_label, remove_oof=False)\n",
    "    crbdf = rdplot.plot_change_relative_beta_one_rat(r.full_label, img_filename='plots/beta_rat/change_relative_beta_%s.png' % r.full_label, remove_oof=False)\n",
    "    if r.group == '6OHDA':\n",
    "        relative_beta_dfs.append(rbdf)\n",
    "        change_relative_beta_dfs.append(crbdf)\n",
    "    elif r.group == 'control':\n",
    "        relative_beta_sham_dfs.append(rbdf)\n",
    "        change_relative_beta_sham_dfs.append(crbdf)"
   ]
  },
  {
   "cell_type": "code",
   "execution_count": null,
   "metadata": {},
   "outputs": [],
   "source": [
    "change_rel_beta_df = pd.concat(change_relative_beta_dfs)\n",
    "change_rel_beta_sham_df = pd.concat(change_relative_beta_sham_dfs)\n",
    "with open('data/all_ohda_rats.csv', 'w') as f:\n",
    "    change_rel_beta_df.sort_values(by=['stim', 'power']).to_csv(f)\n",
    "with open('data/all_sham_rats.csv', 'w') as f:\n",
    "    change_rel_beta_sham_df.sort_values(by=['stim', 'power']).to_csv(f)"
   ]
  },
  {
   "cell_type": "code",
   "execution_count": null,
   "metadata": {},
   "outputs": [],
   "source": [
    "with open('data/all_ohda_rats.csv', 'r') as f:\n",
    "    change_rel_beta_df = pd.read_csv(f)\n",
    "\n",
    "label_order = ['nostim', 'continuous', 'on-off', 'proportional', 'random', 'low', 'low20']\n",
    "my_palette = rdplot.stim_type_palette\n",
    "fig = plt.figure(figsize=(16, 10))\n",
    "sns.boxplot(x='stim', y='power', data=change_rel_beta_df, palette=my_palette,\n",
    "            order=label_order, boxprops=dict(alpha=rdplot.boxplot_alpha))\n",
    "sns.swarmplot(x='stim', y='power', data=change_rel_beta_df, s=8, palette=my_palette,\n",
    "                order=label_order)\n",
    "plt.ylim([0.2, 1.82])\n",
    "\n",
    "ax = fig.axes[0]\n",
    "ax.tick_params(axis='both', which='major', labelsize=fontsize_ax)\n",
    "ax.spines['top'].set_visible(False)\n",
    "ax.spines['right'].set_visible(False)\n",
    "\n",
    "ax.set_xticklabels(['No stim', 'Continuous', 'On-Off', 'Proportional', 'Random', 'Low mean', 'Low 20%'])\n",
    "plt.xlabel('Stimulation', fontsize=fontsize_ax, labelpad=fontsize)\n",
    "plt.ylabel('Relative $\\\\beta$ power vs baseline', fontsize=fontsize_ax)\n",
    "plt.savefig('plots/all_ohda_rats_beta.png')\n",
    "plt.savefig('plots/all_ohda_rats_beta.svg')"
   ]
  },
  {
   "cell_type": "code",
   "execution_count": null,
   "metadata": {},
   "outputs": [],
   "source": [
    "with open('data/all_sham_rats.csv', 'r') as f:\n",
    "    change_rel_beta_df = pd.read_csv(f)\n",
    "\n",
    "label_order = ['nostim', 'continuous', 'on-off', 'proportional', 'random', 'low', 'low20']\n",
    "my_palette = rdplot.stim_type_palette\n",
    "fig = plt.figure(figsize=(16, 10))\n",
    "sns.boxplot(x='stim', y='power', data=change_rel_beta_df, palette=my_palette,\n",
    "            order=label_order, boxprops=dict(alpha=rdplot.boxplot_alpha))\n",
    "sns.swarmplot(x='stim', y='power', data=change_rel_beta_df, s=8, palette=my_palette,\n",
    "                order=label_order)\n",
    "plt.ylim([0.2, 1.82])\n",
    "\n",
    "ax = fig.axes[0]\n",
    "ax.tick_params(axis='both', which='major', labelsize=fontsize_ax)\n",
    "ax.spines['top'].set_visible(False)\n",
    "ax.spines['right'].set_visible(False)\n",
    "\n",
    "ax.set_xticklabels(['No stim', 'Continuous', 'On-Off', 'Proportional', 'Random', 'Low mean', 'Low 20%'])\n",
    "\n",
    "plt.xlabel('Stimulation', fontsize=fontsize_ax, labelpad=fontsize)\n",
    "plt.ylabel('Relative $\\\\beta$ power vs baseline', fontsize=fontsize_ax)\n",
    "plt.savefig('plots/all_sham_rats_beta.png')\n",
    "plt.savefig('plots/all_sham_rats_beta.svg')"
   ]
  }
 ],
 "metadata": {
  "interpreter": {
   "hash": "71ecfc0ae2bb458425d39bf321c634e8cafd0685753a20a4aa768ea01a8df2c2"
  },
  "kernelspec": {
   "display_name": "Python 3.9.5 ('venv': venv)",
   "language": "python",
   "name": "python3"
  },
  "language_info": {
   "codemirror_mode": {
    "name": "ipython",
    "version": 3
   },
   "file_extension": ".py",
   "mimetype": "text/x-python",
   "name": "python",
   "nbconvert_exporter": "python",
   "pygments_lexer": "ipython3",
   "version": "3.9.5"
  }
 },
 "nbformat": 4,
 "nbformat_minor": 2
}
