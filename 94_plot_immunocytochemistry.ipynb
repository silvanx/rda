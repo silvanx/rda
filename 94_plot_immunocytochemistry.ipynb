{
 "cells": [
  {
   "cell_type": "code",
   "execution_count": null,
   "metadata": {},
   "outputs": [],
   "source": [
    "import pandas as pd\n",
    "import seaborn as sns\n",
    "import matplotlib.pyplot as plt\n",
    "import ratdata.plot as rdplot"
   ]
  },
  {
   "cell_type": "code",
   "execution_count": null,
   "metadata": {},
   "outputs": [],
   "source": [
    "fontsize = 30\n",
    "fontsize_ax = 22"
   ]
  },
  {
   "cell_type": "code",
   "execution_count": null,
   "metadata": {},
   "outputs": [],
   "source": [
    "file = 'data/results - TH immuno.xlsx'\n",
    "data = pd.read_excel(file)\n",
    "df = pd.melt(data).dropna()\n",
    "df.columns = ['group', 'neurons']"
   ]
  },
  {
   "cell_type": "code",
   "execution_count": null,
   "metadata": {},
   "outputs": [],
   "source": [
    "fig = plt.figure(figsize=(14, 9))\n",
    "label_order = ['6-OHDA striatum', 'sham striatum', '6-OHDA SNc', 'sham SNc']\n",
    "sns.boxplot(data=df, x=\"group\", y=\"neurons\", palette=rdplot.sham_ohda_palette, boxprops=dict(alpha=rdplot.boxplot_alpha), order=label_order)\n",
    "sns.swarmplot(data=df, x=\"group\", y=\"neurons\", palette=rdplot.sham_ohda_palette, order=label_order, size=6)\n",
    "ax = fig.axes[0]\n",
    "plt.xlabel('Rat group and brain structure', fontsize=fontsize_ax, labelpad=fontsize_ax)\n",
    "plt.ylabel('Loss of TH staining', fontsize=fontsize_ax)\n",
    "ax.tick_params(axis='both', which='major', labelsize=fontsize_ax)\n",
    "ax.spines['top'].set_visible(False)\n",
    "ax.spines['right'].set_visible(False)\n",
    "plt.savefig('plots/immuno_results.svg', facecolor='white', bbox_inches='tight')\n",
    "plt.savefig('plots/immuno_results.png', facecolor='white', bbox_inches='tight')"
   ]
  }
 ],
 "metadata": {
  "kernelspec": {
   "display_name": "Python 3.9.5 ('venv': venv)",
   "language": "python",
   "name": "python3"
  },
  "language_info": {
   "codemirror_mode": {
    "name": "ipython",
    "version": 3
   },
   "file_extension": ".py",
   "mimetype": "text/x-python",
   "name": "python",
   "nbconvert_exporter": "python",
   "pygments_lexer": "ipython3",
   "version": "3.9.5"
  },
  "vscode": {
   "interpreter": {
    "hash": "71ecfc0ae2bb458425d39bf321c634e8cafd0685753a20a4aa768ea01a8df2c2"
   }
  }
 },
 "nbformat": 4,
 "nbformat_minor": 2
}
