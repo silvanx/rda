{
 "cells": [
  {
   "cell_type": "code",
   "execution_count": null,
   "metadata": {},
   "outputs": [],
   "source": [
    "import pandas as pd\n",
    "import seaborn as sns\n",
    "import matplotlib.pyplot as plt\n",
    "import ratdata.plot as rdplot"
   ]
  },
  {
   "cell_type": "code",
   "execution_count": null,
   "metadata": {},
   "outputs": [],
   "source": [
    "file = 'data/results - TH immuno.xlsx'\n",
    "data = pd.read_excel(file)\n",
    "df = pd.melt(data).dropna()\n",
    "df.columns = ['group', 'neurons']"
   ]
  },
  {
   "cell_type": "code",
   "execution_count": null,
   "metadata": {},
   "outputs": [],
   "source": [
    "plt.figure(figsize=(7, 5))\n",
    "label_order = ['6-OHDA striatum', 'sham striatum', '6-OHDA SNc', 'sham SNc']\n",
    "sns.boxplot(data=df, x=\"group\", y=\"neurons\", palette=rdplot.sham_ohda_palette, boxprops=dict(alpha=rdplot.boxplot_alpha), order=label_order)\n",
    "sns.swarmplot(data=df, x=\"group\", y=\"neurons\", palette=rdplot.sham_ohda_palette, order=label_order)\n",
    "plt.xlabel('Rat group and brain structure')\n",
    "plt.ylabel('Loss of TH staining')\n",
    "plt.savefig('plots/immuno_results.svg', facecolor='white', bbox_inches='tight')\n",
    "plt.savefig('plots/immuno_results.png', facecolor='white', bbox_inches='tight')"
   ]
  }
 ],
 "metadata": {
  "kernelspec": {
   "display_name": "Python 3.9.5 ('venv': venv)",
   "language": "python",
   "name": "python3"
  },
  "language_info": {
   "codemirror_mode": {
    "name": "ipython",
    "version": 3
   },
   "file_extension": ".py",
   "mimetype": "text/x-python",
   "name": "python",
   "nbconvert_exporter": "python",
   "pygments_lexer": "ipython3",
   "version": "3.9.5"
  },
  "vscode": {
   "interpreter": {
    "hash": "71ecfc0ae2bb458425d39bf321c634e8cafd0685753a20a4aa768ea01a8df2c2"
   }
  }
 },
 "nbformat": 4,
 "nbformat_minor": 2
}
