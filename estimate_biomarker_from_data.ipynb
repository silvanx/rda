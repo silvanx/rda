{
 "cells": [
  {
   "cell_type": "code",
   "execution_count": null,
   "metadata": {},
   "outputs": [],
   "source": [
    "from ratdata import process, ingest, data_manager\n",
    "import numpy as np\n",
    "import matplotlib.pyplot as plt"
   ]
  },
  {
   "cell_type": "code",
   "execution_count": null,
   "metadata": {},
   "outputs": [],
   "source": [
    "filename = 'data/mce_recordings/2021-11-03T08-31-26 rat6 baseline.mat'\n",
    "threshold = 15\n",
    "\n",
    "recording = ingest.read_mce_matlab_file(filename)\n",
    "start = int(45 / recording.dt)\n",
    "end = int(47 / recording.dt)\n",
    "\n",
    "data = np.mean(recording.electrode_data, axis=0)[start:end]\n",
    "tt = np.linspace(10, 12, len(data))\n",
    "biomarker = process.dsp_biomarker(data)"
   ]
  },
  {
   "cell_type": "code",
   "execution_count": null,
   "metadata": {},
   "outputs": [],
   "source": [
    "fig = plt.figure(figsize=(12, 12))\n",
    "plt.plot(tt, data)\n",
    "ax2 = fig.axes[0].twinx()\n",
    "ax2.plot(tt[5000:], biomarker[5000:], color='red')\n",
    "ax2.tick_params(axis='y', labelcolor='red')\n",
    "plt.savefig('plots/biomarker.svg')"
   ]
  }
 ],
 "metadata": {
  "kernelspec": {
   "display_name": "Python 3.9.5 ('venv': venv)",
   "language": "python",
   "name": "python3"
  },
  "language_info": {
   "codemirror_mode": {
    "name": "ipython",
    "version": 3
   },
   "file_extension": ".py",
   "mimetype": "text/x-python",
   "name": "python",
   "nbconvert_exporter": "python",
   "pygments_lexer": "ipython3",
   "version": "3.9.5"
  },
  "vscode": {
   "interpreter": {
    "hash": "71ecfc0ae2bb458425d39bf321c634e8cafd0685753a20a4aa768ea01a8df2c2"
   }
  }
 },
 "nbformat": 4,
 "nbformat_minor": 2
}
