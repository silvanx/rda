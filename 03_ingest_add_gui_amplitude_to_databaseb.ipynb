{
 "cells": [
  {
   "cell_type": "code",
   "execution_count": null,
   "metadata": {},
   "outputs": [],
   "source": [
    "from ratdata import data_manager as dm\n",
    "from pathlib import Path\n",
    "import re\n",
    "from datetime import datetime"
   ]
  },
  {
   "cell_type": "code",
   "execution_count": null,
   "metadata": {},
   "outputs": [],
   "source": [
    "gui_dirname = 'data/gui_recordings'"
   ]
  },
  {
   "cell_type": "code",
   "execution_count": null,
   "metadata": {},
   "outputs": [],
   "source": [
    "dm.db_connect('rat_data.db')"
   ]
  },
  {
   "cell_type": "code",
   "execution_count": null,
   "metadata": {},
   "outputs": [],
   "source": [
    "for f in Path(gui_dirname).iterdir():\n",
    "    if not re.match(r'^.*\\.txt$', f.name):\n",
    "        continue\n",
    "    rat_shortlabel = re.findall(r'rat[0-9]', f.stem)[0]\n",
    "    date = re.findall(r'^[0-9]{4}-[0-9]{2}-[0-9]{2}', f.stem)[0]\n",
    "    time = re.findall(r'[0-9]{2}-[0-9]{2}-[0-9]{2}', f.stem)[1]\n",
    "    rat = dm.Rat.select().where((dm.Rat.label == rat_shortlabel) & (dm.Rat.date_start <= date) & (dm.Rat.date_end >= date)).get()\n",
    "    recordings = dm.RecordingFile.select().join(dm.StimSettings).where((dm.RecordingFile.rat == rat) & (dm.RecordingFile.recording_date == date) & (dm.StimSettings.stim_type == 'proportional'))\n",
    "    selected_recording = None\n",
    "    min_diff = None\n",
    "    for r in recordings:\n",
    "        datetime_string_recording = r.filename.split(' ')[0]\n",
    "        datetime_string_gui = 'T'.join([date, time])\n",
    "        \n",
    "        rec_time = datetime.strptime(datetime_string_recording, '%Y-%m-%dT%H-%M-%S')\n",
    "        gui_time = datetime.strptime(datetime_string_gui, '%Y-%m-%dT%H-%M-%S')\n",
    "        time_diff = abs((gui_time - rec_time).total_seconds())\n",
    "        if selected_recording is None:\n",
    "            selected_recording = r\n",
    "            min_diff = time_diff\n",
    "        elif time_diff < min_diff:\n",
    "            selected_recording = r\n",
    "            min_diff = time_diff\n",
    "    if dm.GuiAmplitude.select().where(dm.GuiAmplitude.file == f.name).count() == 0:\n",
    "        print(f.name, rat.full_label, selected_recording.filename, min_diff)\n",
    "        dm.GuiAmplitude.insert(recording=selected_recording, offset=0, file=f.name).execute()"
   ]
  }
 ],
 "metadata": {
  "interpreter": {
   "hash": "71ecfc0ae2bb458425d39bf321c634e8cafd0685753a20a4aa768ea01a8df2c2"
  },
  "kernelspec": {
   "display_name": "Python 3.9.5 ('venv': venv)",
   "language": "python",
   "name": "python3"
  },
  "language_info": {
   "codemirror_mode": {
    "name": "ipython",
    "version": 3
   },
   "file_extension": ".py",
   "mimetype": "text/x-python",
   "name": "python",
   "nbconvert_exporter": "python",
   "pygments_lexer": "ipython3",
   "version": "3.9.5"
  }
 },
 "nbformat": 4,
 "nbformat_minor": 2
}
