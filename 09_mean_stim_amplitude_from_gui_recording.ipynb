{
 "cells": [
  {
   "cell_type": "code",
   "execution_count": null,
   "metadata": {},
   "outputs": [],
   "source": [
    "import pathlib\n",
    "from ratdata import ingest, process, plot as rdplot"
   ]
  },
  {
   "cell_type": "code",
   "execution_count": null,
   "metadata": {},
   "outputs": [],
   "source": [
    "datadir_gui = pathlib.Path('data/gui_recordings/')"
   ]
  },
  {
   "cell_type": "code",
   "execution_count": null,
   "metadata": {},
   "outputs": [],
   "source": [
    "# Max amplitude setting for proportional control \n",
    "max_amplitude = {\n",
    "    '2022-03-04': {\n",
    "        'rat1': 100,\n",
    "        'rat2': 40\n",
    "    },\n",
    "    '2022-04-06': {\n",
    "        'rat1': 100,\n",
    "        'rat2': 45,\n",
    "        'rat4': 90\n",
    "    },\n",
    "    '2022-04-27': {\n",
    "        'rat2': 30,\n",
    "        'rat4': 90\n",
    "    }\n",
    "}"
   ]
  },
  {
   "cell_type": "code",
   "execution_count": null,
   "metadata": {},
   "outputs": [],
   "source": [
    "for rat_label in ['rat1', 'rat2', 'rat4']:\n",
    "    process.mean_stim_amplitude_from_gui_recording(rat_label, max_amplitude, datadir_gui)"
   ]
  },
  {
   "cell_type": "code",
   "execution_count": null,
   "metadata": {},
   "outputs": [],
   "source": [
    "plot_data = ingest.read_stim_amplitude_from_gui_recording(datadir_gui / '2022-04-06T10-49-33-amplitude rat2.txt', 45)\n",
    "rdplot.plot_amplitude_with_percentiles(plot_data, 0, 50)"
   ]
  },
  {
   "cell_type": "code",
   "execution_count": null,
   "metadata": {},
   "outputs": [],
   "source": []
  }
 ],
 "metadata": {
  "interpreter": {
   "hash": "75aabafc8459505f3d11f3bf65d7703e8f22251d44e64c91c4dfa232af0c99ec"
  },
  "kernelspec": {
   "display_name": "Python 3.9.5 ('venv': venv)",
   "language": "python",
   "name": "python3"
  },
  "language_info": {
   "codemirror_mode": {
    "name": "ipython",
    "version": 3
   },
   "file_extension": ".py",
   "mimetype": "text/x-python",
   "name": "python",
   "nbconvert_exporter": "python",
   "pygments_lexer": "ipython3",
   "version": "3.9.5"
  }
 },
 "nbformat": 4,
 "nbformat_minor": 2
}
