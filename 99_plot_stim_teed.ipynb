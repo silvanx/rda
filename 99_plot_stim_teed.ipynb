{
 "cells": [
  {
   "cell_type": "code",
   "execution_count": null,
   "metadata": {},
   "outputs": [],
   "source": [
    "teed_filename = 'data/teed_full.csv'"
   ]
  },
  {
   "cell_type": "code",
   "execution_count": null,
   "metadata": {},
   "outputs": [],
   "source": [
    "import pandas as pd\n",
    "\n",
    "df = pd.read_csv(teed_filename, sep=',')\n",
    "\n",
    "df.columns = ['filename', 'condition', 'rat', 'rat_group', 'stim_type', 'max_amplitude', 'power']\n",
    "df = df.explode('power')\n",
    "df['power'] = df['power'].astype('float')"
   ]
  },
  {
   "cell_type": "code",
   "execution_count": null,
   "metadata": {},
   "outputs": [],
   "source": [
    "import matplotlib.pyplot as plt\n",
    "import ratdata.plot as rdplot\n",
    "import seaborn as sns\n",
    "\n",
    "order_labels = ['on-off', 'proportional']\n",
    "plt.figure(figsize=(10, 10))\n",
    "sns.boxplot(x='stim_type', y='power', data=df, order=order_labels, palette=rdplot.stim_type_palette, boxprops=dict(alpha=rdplot.boxplot_alpha))\n",
    "sns.swarmplot(x='stim_type', y='power', data=df, order=order_labels, s=4, palette=rdplot.stim_type_palette)\n",
    "plt.ylim([0, 110])\n",
    "plt.axhline(100, color='red')\n",
    "plt.xlabel('Stimulation type')\n",
    "plt.ylabel('TEED in 1s compared to open-loop [%]')\n",
    "plt.title('Average energy delivered in 1s of stimulation compared to continuous stimulation')\n",
    "plt.savefig('plots/teed.svg', bbox_inches='tight', facecolor='white')"
   ]
  }
 ],
 "metadata": {
  "kernelspec": {
   "display_name": "Python 3.9.5 ('venv': venv)",
   "language": "python",
   "name": "python3"
  },
  "language_info": {
   "codemirror_mode": {
    "name": "ipython",
    "version": 3
   },
   "file_extension": ".py",
   "mimetype": "text/x-python",
   "name": "python",
   "nbconvert_exporter": "python",
   "pygments_lexer": "ipython3",
   "version": "3.9.5"
  },
  "vscode": {
   "interpreter": {
    "hash": "71ecfc0ae2bb458425d39bf321c634e8cafd0685753a20a4aa768ea01a8df2c2"
   }
  }
 },
 "nbformat": 4,
 "nbformat_minor": 2
}
