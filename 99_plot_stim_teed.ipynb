{
 "cells": [
  {
   "cell_type": "code",
   "execution_count": null,
   "metadata": {},
   "outputs": [],
   "source": [
    "teed_filename = 'data/teed_full.csv'"
   ]
  },
  {
   "cell_type": "code",
   "execution_count": null,
   "metadata": {},
   "outputs": [],
   "source": [
    "fontsize = 30\n",
    "fontsize_ax = 22"
   ]
  },
  {
   "cell_type": "code",
   "execution_count": null,
   "metadata": {},
   "outputs": [],
   "source": [
    "import pandas as pd\n",
    "\n",
    "df = pd.read_csv(teed_filename, sep=',')\n",
    "\n",
    "df.columns = ['filename', 'condition', 'rat', 'rat_group', 'stim_type', 'max_amplitude', 'power', 'power_absolute']\n",
    "df = df.explode('power')\n",
    "df['power'] = df['power'].astype('float')\n",
    "df['power_absolute'] = df['power_absolute'].apply(lambda x: x / 1e9)"
   ]
  },
  {
   "cell_type": "code",
   "execution_count": null,
   "metadata": {},
   "outputs": [],
   "source": [
    "print('ON/OFF: %.2f +- %.2f' % (df[df['stim_type'] == 'on-off']['power'].mean(), df[df['stim_type'] == 'on-off']['power'].std()))\n",
    "print('Proportional: %.2f +- %.2f' % (df[df['stim_type'] == 'proportional']['power'].mean(), df[df['stim_type'] == 'proportional']['power'].std()))"
   ]
  },
  {
   "cell_type": "code",
   "execution_count": null,
   "metadata": {},
   "outputs": [],
   "source": [
    "import matplotlib.pyplot as plt\n",
    "import ratdata.plot as rdplot\n",
    "import seaborn as sns\n",
    "\n",
    "order_labels = ['on-off', 'proportional']\n",
    "plt.figure(figsize=(10, 10))\n",
    "ax = sns.violinplot(x='stim_type', y='power', data=df, order=order_labels, palette=rdplot.stim_type_palette, bw=0.2)\n",
    "for violin in ax.collections[::2]:\n",
    "    violin.set_alpha(rdplot.boxplot_alpha)\n",
    "sns.swarmplot(x='stim_type', y='power', data=df, order=order_labels, s=8, palette=rdplot.stim_type_palette)\n",
    "plt.ylim([0, 110])\n",
    "plt.axhline(100, color='red')\n",
    "\n",
    "ax.tick_params(axis='both', which='major', labelsize=fontsize_ax)\n",
    "ax.spines['top'].set_visible(False)\n",
    "ax.spines['right'].set_visible(False)\n",
    "\n",
    "plt.xlabel('Stimulation type', fontsize=fontsize_ax)\n",
    "plt.ylabel('Stimulation power compared to open-loop [%]', fontsize=fontsize_ax)\n",
    "plt.title('Estimated stimulation power draw', fontsize=fontsize)\n",
    "plt.savefig('plots/teed.svg', bbox_inches='tight', facecolor='white')\n",
    "plt.savefig('plots/teed.png', bbox_inches='tight', facecolor='white')"
   ]
  },
  {
   "cell_type": "code",
   "execution_count": null,
   "metadata": {},
   "outputs": [],
   "source": [
    "# import matplotlib\n",
    "\n",
    "# font = {'family' : 'normal',\n",
    "#         'weight': 'normal',\n",
    "#         'size' : 20}\n",
    "# matplotlib.rc('font', **font)\n",
    "\n",
    "order_labels = ['continuous', 'on-off', 'proportional']\n",
    "fig, axs = plt.subplots(1, 3, figsize=(22, 8), sharey=True)\n",
    "\n",
    "i = 0\n",
    "rats = df['rat'].unique()\n",
    "rats.sort()\n",
    "for rat in rats:\n",
    "    if 'rat D' in rat:\n",
    "        data = df[df['rat'] == rat]\n",
    "        sns.violinplot(ax=axs[i], x='stim_type', y='power_absolute', data=data, order=order_labels, palette=rdplot.stim_type_palette, bw=0.2)\n",
    "        for violin in axs[i].collections[::2]:\n",
    "            violin.set_alpha(rdplot.boxplot_alpha)\n",
    "        sns.swarmplot(ax=axs[i], x='stim_type', y='power_absolute', data=data, order=order_labels, s=8, palette=rdplot.stim_type_palette)        \n",
    "        axs[i].set_xlabel('Stimulation type', fontsize=fontsize_ax, labelpad=30)\n",
    "        axs[i].set_title('%s' % rat, fontsize=fontsize)\n",
    "        axs[i].set_ylim([0, 0.12])\n",
    "        axs[i].tick_params(axis='both', which='major', labelsize=fontsize_ax)\n",
    "        axs[i].spines['top'].set_visible(False)\n",
    "        axs[i].spines['right'].set_visible(False)\n",
    "        i += 1\n",
    "axs[0].set_ylabel('Power [a.u.]', fontsize=fontsize_ax)\n",
    "axs[1].set_ylabel(None)\n",
    "axs[2].set_ylabel(None)\n",
    "fig.suptitle('Average stimulation power', fontsize=fontsize)\n",
    "plt.subplots_adjust(wspace=0.05)\n",
    "plt.savefig('plots/teed_by_rat.svg', bbox_inches='tight', facecolor='white')\n",
    "plt.savefig('plots/teed_by_rat.png', bbox_inches='tight', facecolor='white')"
   ]
  }
 ],
 "metadata": {
  "kernelspec": {
   "display_name": "Python 3.9.5 ('venv': venv)",
   "language": "python",
   "name": "python3"
  },
  "language_info": {
   "codemirror_mode": {
    "name": "ipython",
    "version": 3
   },
   "file_extension": ".py",
   "mimetype": "text/x-python",
   "name": "python",
   "nbconvert_exporter": "python",
   "pygments_lexer": "ipython3",
   "version": "3.9.5"
  },
  "vscode": {
   "interpreter": {
    "hash": "71ecfc0ae2bb458425d39bf321c634e8cafd0685753a20a4aa768ea01a8df2c2"
   }
  }
 },
 "nbformat": 4,
 "nbformat_minor": 2
}
