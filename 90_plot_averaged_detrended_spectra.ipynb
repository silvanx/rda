{
 "cells": [
  {
   "cell_type": "code",
   "execution_count": null,
   "metadata": {},
   "outputs": [],
   "source": [
    "from ratdata import data_manager as dm, process, ingest, plot as rdplot\n",
    "import numpy as np\n",
    "import matplotlib.pyplot as plt\n",
    "from pathlib import Path\n",
    "import scipy.signal as signal"
   ]
  },
  {
   "cell_type": "code",
   "execution_count": null,
   "metadata": {},
   "outputs": [],
   "source": [
    "dm.db_connect('rat_data.db')"
   ]
  },
  {
   "cell_type": "code",
   "execution_count": null,
   "metadata": {},
   "outputs": [],
   "source": [
    "beta_low = 11\n",
    "beta_high = 30"
   ]
  },
  {
   "cell_type": "code",
   "execution_count": null,
   "metadata": {},
   "outputs": [],
   "source": [
    "for rat in dm.Rat.select():\n",
    "    print(f\"{rat.full_label}\")\n",
    "    spectra = []\n",
    "    ff = None\n",
    "    for r in dm.RecordingFile.select().where(\n",
    "        (dm.RecordingFile.condition == 'baseline') & (dm.RecordingFile.rat == rat)):\n",
    "            filename = Path(r.dirname) / r.filename\n",
    "            print(f\"  {r.filename}\")\n",
    "            rec = ingest.read_mce_matlab_file(filename)\n",
    "            if dm.is_recording_rejected(filename.name):\n",
    "                print(\"REJECTED\")\n",
    "                continue\n",
    "            fs = int(1/rec.dt)\n",
    "            x = np.mean(rec.electrode_data, 0)\n",
    "            if dm.is_recording_sliced(r.filename):\n",
    "                slice = dm.RecordingSlice.select().join(dm.RecordingFile).where(dm.RecordingFile.filename == filename.name).get()\n",
    "                start = int(slice.start * fs)\n",
    "                end = int((slice.start + slice.length) * fs)\n",
    "                x = x[start:end]\n",
    "            f, psd = signal.welch(x, fs, nperseg=int(2*fs))\n",
    "            m, b = process.fit_oof(f, psd, 2, 100)\n",
    "            f[0] = 1e-20\n",
    "            oof = f ** m * (np.e ** b)\n",
    "            detrended = psd - oof\n",
    "            idx = np.logical_and(f >= 10, f <= 35)\n",
    "            if ff is None:\n",
    "                ff = f[idx]\n",
    "            spectra.append(detrended[idx])\n",
    "    fig = plt.figure(figsize=(12, 6))\n",
    "    avg = np.mean(np.array(spectra), 0)\n",
    "    std = np.std(np.array(spectra), 0)\n",
    "    plt.plot(ff, np.mean(np.array(spectra), 0), linewidth=5, color=rdplot.sham_ohda_palette[rat.full_label])\n",
    "    plt.fill_between(ff, avg-std, avg+std, facecolor=rdplot.sham_ohda_palette[rat.full_label], alpha=0.4)\n",
    "    plt.axhline(0, color='red')\n",
    "    for s in spectra:\n",
    "        plt.plot(ff, s, color=(0.5, 0.5, 0.5), linewidth=0.3)\n",
    "    plt.ylim([-1e-4, 1e-4])\n",
    "    plt.title(f\"{rat.full_label}\")\n",
    "    plt.savefig(f\"plots/peaks/averaged_{rat.full_label}.svg\", bbox_inches=\"tight\")\n",
    "    plt.savefig(f\"plots/peaks/averaged_vec_{rat.full_label}.png\", bbox_inches=\"tight\")\n",
    "    "
   ]
  }
 ],
 "metadata": {
  "kernelspec": {
   "display_name": "Python 3.9.5 ('venv': venv)",
   "language": "python",
   "name": "python3"
  },
  "language_info": {
   "codemirror_mode": {
    "name": "ipython",
    "version": 3
   },
   "file_extension": ".py",
   "mimetype": "text/x-python",
   "name": "python",
   "nbconvert_exporter": "python",
   "pygments_lexer": "ipython3",
   "version": "3.9.5"
  },
  "vscode": {
   "interpreter": {
    "hash": "71ecfc0ae2bb458425d39bf321c634e8cafd0685753a20a4aa768ea01a8df2c2"
   }
  }
 },
 "nbformat": 4,
 "nbformat_minor": 2
}
