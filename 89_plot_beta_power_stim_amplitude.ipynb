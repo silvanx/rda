{
 "cells": [
  {
   "cell_type": "code",
   "execution_count": null,
   "metadata": {},
   "outputs": [],
   "source": [
    "from ratdata import process, ingest, data_manager as dm\n",
    "import numpy as np\n",
    "import matplotlib.pyplot as plt\n",
    "from pathlib import Path\n",
    "import scipy.signal"
   ]
  },
  {
   "cell_type": "code",
   "execution_count": null,
   "metadata": {},
   "outputs": [],
   "source": [
    "tstart = 152 + 3\n",
    "dur = 7\n",
    "tend = tstart + dur\n",
    "\n",
    "tstart_gui = 142.526 + 3\n",
    "tend_gui = tstart_gui + dur\n",
    "dur_gui = dur"
   ]
  },
  {
   "cell_type": "code",
   "execution_count": null,
   "metadata": {},
   "outputs": [],
   "source": [
    "dm.db_connect('rat_data.db')"
   ]
  },
  {
   "cell_type": "code",
   "execution_count": null,
   "metadata": {},
   "outputs": [],
   "source": [
    "dirname = Path(\"data/mce_recordings/\")\n",
    "filename = '2022-04-06T11-26-41 rat1 CT pro.mat'\n",
    "gui_amplitude_filename = 'data/gui_recordings/2022-04-06T11-26-51-amplitude rat1.txt'\n",
    "\n",
    "recording = ingest.read_mce_matlab_file(dirname / filename)\n",
    "start = int(tstart / recording.dt)\n",
    "end = int(tend / recording.dt)\n",
    "\n",
    "data = np.mean(recording.electrode_data, axis=0)[start:end]\n",
    "tt = np.linspace(10, 10 + dur, len(data))\n",
    "biomarker, beta, total = process.dsp_biomarker(data)\n",
    "\n",
    "gui_samples = int(200 * dur_gui)\n",
    "gui_data = ingest.read_stim_amplitude_from_gui_recording(gui_amplitude_filename, 100)\n",
    "tt_gui = np.linspace(10, 10 + dur_gui, gui_samples)"
   ]
  },
  {
   "cell_type": "code",
   "execution_count": null,
   "metadata": {},
   "outputs": [],
   "source": [
    "fig, axs = plt.subplots(2, 1, figsize=(18, 12))\n",
    "axs[0].plot(tt, -data)\n",
    "ax2 = axs[1]\n",
    "shift = -50\n",
    "biomarker2 = 0.7 * biomarker.copy()\n",
    "# biomarker2 = biomarker2.clip(0, 100)\n",
    "if shift == 0:\n",
    "    ax2.plot(tt[::40], biomarker2[shift:], color='red')\n",
    "elif shift < 0:\n",
    "    ax2.plot(tt[(-shift * 40)::40], biomarker2[:shift], color='red')\n",
    "else:\n",
    "    ax2.plot(tt[:(-shift * 40):40], biomarker2[shift:], color='red')\n",
    "# ax2.axhline(threshold, color='black')\n",
    "# ax2.tick_params(axis='y', labelcolor='red')\n",
    "gui_data_slice = gui_data[int(200 * tstart_gui): int(200 * tend_gui)]\n",
    "axs[1].plot(tt_gui, gui_data_slice, color='black')\n",
    "axs[0].set_title(\"LFP recording\")\n",
    "axs[0].set_ylabel(\"Amplitude [mV]\")\n",
    "axs[1].set_title(\"Relative beta and proportional controller amplitude\")\n",
    "axs[1].set_xlabel(\"Time [s]\")\n",
    "axs[1].set_ylabel(\"Stimulation amplitude [nA]\")\n",
    "axs[1].legend([\"Relative beta\", \"Stim amplitude\"])\n",
    "plt.savefig('plots/biomarker_proportional.svg')\n",
    "plt.savefig('plots/biomarker_proportional.png')"
   ]
  },
  {
   "cell_type": "code",
   "execution_count": null,
   "metadata": {},
   "outputs": [],
   "source": [
    "tstart_onoff = 75\n",
    "dur_onoff = 7.7\n",
    "tend_onoff = tstart_onoff + dur_onoff"
   ]
  },
  {
   "cell_type": "code",
   "execution_count": null,
   "metadata": {},
   "outputs": [],
   "source": [
    "filename = '2021-11-17T07-43-04 rat6 CT on-off.mat'\n",
    "\n",
    "recording = ingest.read_mce_matlab_file(dirname / filename)\n",
    "start = int(tstart_onoff / recording.dt)\n",
    "end = int(tend_onoff / recording.dt)\n",
    "\n",
    "data_onoff = np.mean(recording.electrode_data, axis=0)[start:end]\n",
    "tt_onoff = np.linspace(10, 10 + dur_onoff, len(data_onoff))\n",
    "biomarker_onoff, beta_onoff, total_onoff = process.dsp_biomarker(data_onoff)"
   ]
  },
  {
   "cell_type": "code",
   "execution_count": null,
   "metadata": {},
   "outputs": [],
   "source": [
    "data_clipped = np.clip(data_onoff, 0, max(data_onoff))\n",
    "spike_threshold = np.percentile(data_clipped, 99.5)\n",
    "peaks = scipy.signal.find_peaks(data_clipped, spike_threshold)\n",
    "peaks_ext = np.insert(peaks[0], -1, 0)\n",
    "peaks_bursts = np.diff(tt_onoff[peaks_ext]) < 0.02"
   ]
  },
  {
   "cell_type": "code",
   "execution_count": null,
   "metadata": {},
   "outputs": [],
   "source": [
    "starts = tt_onoff[peaks_ext[np.insert(np.roll(peaks_bursts, -1) & ~peaks_bursts, True, -1)]]\n",
    "ends = tt_onoff[peaks_ext[np.insert(~np.roll(peaks_bursts, -1) & peaks_bursts, True, 0)]]\n",
    "\n",
    "on_off_periods = np.zeros(len(tt_onoff))\n",
    "for s, e in zip(starts, ends):\n",
    "    on_off_periods[(tt_onoff > s) & (tt_onoff < e)] = 1"
   ]
  },
  {
   "cell_type": "code",
   "execution_count": null,
   "metadata": {},
   "outputs": [],
   "source": [
    "fig, axs = plt.subplots(2, 1, figsize=(18, 12))\n",
    "axs[0].plot(tt_onoff, data_onoff)\n",
    "# axs[0].axhline(spike_threshold)\n",
    "# axs[0].scatter(tt[peaks[0]], peaks[1]['peak_heights'], marker='v')\n",
    "ax2 = axs[1]\n",
    "shift = -50\n",
    "biomarker2_onoff = biomarker_onoff.copy()\n",
    "if shift == 0:\n",
    "    ax2.plot(tt_onoff[::40], biomarker2_onoff, color='red')\n",
    "elif shift < 0:\n",
    "    ax2.plot(tt_onoff[(-shift * 40)::40], biomarker2_onoff[:shift], color='red')\n",
    "else:\n",
    "    ax2.plot(tt_onoff[:(-shift * 40):40], biomarker2_onoff[shift:], color='red')\n",
    "# axs[1].axhline(50, color=\"black\")\n",
    "ax2.plot(tt_onoff, 100 * on_off_periods, color='black')\n",
    "# ax2.tick_params(axis='y', labelcolor='red')\n",
    "axs[0].set_title(\"LFP recording\")\n",
    "axs[0].set_ylabel(\"Amplitude [mV]\")\n",
    "axs[1].set_title(\"Stimulation amplitude and relative beta\")\n",
    "axs[1].set_xlabel(\"Time [s]\")\n",
    "axs[1].set_ylabel(\"Stimulation amplitude [nA]\")\n",
    "axs[1].legend([\"Relative beta\", \"Stim amplitude\"])\n",
    "axs[0].set_xlim([10, 10 + dur_onoff])\n",
    "axs[1].set_xlim([10, 10 + dur_onoff])\n",
    "axs[1].set_ylim([-10, 150])"
   ]
  },
  {
   "cell_type": "code",
   "execution_count": null,
   "metadata": {},
   "outputs": [],
   "source": [
    "fontsize_ax = 22\n",
    "shift = -25\n",
    "\n",
    "fig, axs = plt.subplots(2, 1, figsize=(18, 12))\n",
    "\n",
    "lns = []\n",
    "\n",
    "axs_right = [axs[0].twinx(), axs[1].twinx()]\n",
    "\n",
    "l1 = axs[0].plot(tt_onoff, 100 * on_off_periods, color='black')\n",
    "axs[0].set_ylim([-10, 180])\n",
    "axs[0].set_xlim([10, 15.01])\n",
    "\n",
    "if shift == 0:\n",
    "    l2 = axs_right[0].plot(tt_onoff[::40], biomarker2_onoff / 10, color='red')\n",
    "elif shift < 0:\n",
    "    l2 = axs_right[0].plot(tt_onoff[(-shift * 40)::40], biomarker2_onoff[:shift] / 10, color='red')\n",
    "else:\n",
    "    l2 = axs_right[0].plot(tt_onoff[:(-shift * 40):40], biomarker2_onoff[shift:] / 10, color='red')\n",
    "\n",
    "l3 = axs_right[0].axhline(5, color='purple', linestyle='--')\n",
    "\n",
    "lns.append(l1 + l2 + [l3])\n",
    "axs_right[0].set_ylim([-1, 22])\n",
    "\n",
    "l1 = axs[1].plot(tt_gui, gui_data_slice, color='black')\n",
    "axs[1].set_ylim([-10, 150])\n",
    "axs[1].set_xlim([10, 15.01])\n",
    "\n",
    "if shift == 0:\n",
    "    l2 = axs_right[1].plot(tt[::40], biomarker2[shift:] / 0.7 / 10, color='red')\n",
    "elif shift < 0:\n",
    "    l2 = axs_right[1].plot(tt[(-shift * 40)::40], biomarker2[:shift] / 0.7 / 10, color='red')\n",
    "else:\n",
    "    l2 = axs_right[1].plot(tt[:(-shift * 40):40], biomarker2[shift:] / 0.7 / 10, color='red')\n",
    "\n",
    "lns.append(l1 + l2)\n",
    "axs_right[1].set_ylim([-1, 20])\n",
    "\n",
    "for a in axs:\n",
    "    a.tick_params(axis='both', which='major', labelsize=fontsize_ax)\n",
    "    a.spines['top'].set_visible(False)\n",
    "    a.spines['right'].set_visible(False)\n",
    "    a.set_ylabel(\"Stimulation amplitude [$\\mu$A]\", fontsize=fontsize_ax)\n",
    "    \n",
    "for a in axs_right:\n",
    "    a.tick_params(axis='both', which='major', labelsize=fontsize_ax, color=\"red\", labelcolor=\"red\")\n",
    "    a.spines['top'].set_visible(False)\n",
    "    a.spines['right'].set_visible(False)\n",
    "    a.set_ylabel(\"Relative beta power [%]\", fontsize=fontsize_ax, color=\"red\")\n",
    "    \n",
    "axs[0].legend(lns[0], [\"Stimulation amplitude\", \"Relative beta power\", \"Beta threshold\"], fontsize=fontsize_ax, frameon=False, loc=2)\n",
    "axs[1].legend(lns[1], [\"Stimulation amplitude\", \"Relative beta power\"], fontsize=fontsize_ax, frameon=False, loc=2)\n",
    "\n",
    "axs[0].set_title('On-off control', fontsize=fontsize_ax + 10)\n",
    "axs[0].text(9.9, 190, \"A\", fontsize=fontsize_ax + 10)\n",
    "axs[1].set_title('Proportional control', fontsize=fontsize_ax + 10)\n",
    "axs[1].text(9.9, 160, \"B\", fontsize=fontsize_ax + 10)\n",
    "axs[1].set_xlabel('Time [s]', fontsize=fontsize_ax, labelpad=fontsize_ax)\n",
    "plt.subplots_adjust(hspace=0.35)\n",
    "plt.savefig(f'plots/beta_and_stim_amplitude_shift{shift}.png', bbox_inches=\"tight\", facecolor=\"white\")"
   ]
  }
 ],
 "metadata": {
  "kernelspec": {
   "display_name": "Python 3.9.5 ('venv': venv)",
   "language": "python",
   "name": "python3"
  },
  "language_info": {
   "codemirror_mode": {
    "name": "ipython",
    "version": 3
   },
   "file_extension": ".py",
   "mimetype": "text/x-python",
   "name": "python",
   "nbconvert_exporter": "python",
   "pygments_lexer": "ipython3",
   "version": "3.9.5"
  },
  "vscode": {
   "interpreter": {
    "hash": "71ecfc0ae2bb458425d39bf321c634e8cafd0685753a20a4aa768ea01a8df2c2"
   }
  }
 },
 "nbformat": 4,
 "nbformat_minor": 2
}
