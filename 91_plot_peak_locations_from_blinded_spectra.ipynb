{
 "cells": [
  {
   "cell_type": "code",
   "execution_count": null,
   "metadata": {},
   "outputs": [],
   "source": [
    "import pandas as pd\n",
    "from ratdata import data_manager as dm, plot as rdplot\n",
    "from peewee import JOIN\n",
    "import scipy.stats\n",
    "import matplotlib.pyplot as plt"
   ]
  },
  {
   "cell_type": "code",
   "execution_count": null,
   "metadata": {},
   "outputs": [],
   "source": [
    "dm.db_connect('rat_data.db')"
   ]
  },
  {
   "cell_type": "code",
   "execution_count": null,
   "metadata": {},
   "outputs": [],
   "source": [
    "peaks = pd.read_excel('plots/blinded_power_spectra/peak_detection_merged.xlsx')\n",
    "key = pd.read_csv('plots/blinded_power_spectra/key.txt', delimiter=':', header=None)\n",
    "key.columns = ['number', 'filename']\n",
    "files = dm.RecordingFile.select(dm.RecordingFile.filename, dm.Rat.full_label, dm.Rat.group, dm.RecordingSlice.recording_rejected)\\\n",
    "    .join(dm.Rat).switch(dm.RecordingFile).join(dm.RecordingSlice, join_type=JOIN.LEFT_OUTER)\\\n",
    "        .where((dm.RecordingFile.condition == 'baseline') & ((dm.RecordingSlice.recording_rejected.is_null()) | (dm.RecordingSlice.recording_rejected == False)))\n",
    "files_rats = pd.DataFrame(list(files.dicts()))"
   ]
  },
  {
   "cell_type": "code",
   "execution_count": null,
   "metadata": {},
   "outputs": [],
   "source": [
    "peaks_files = peaks[['Number', 'Peak location KO', 'Peak low KO', 'Peak high KO']].merge(key, left_on='Number', right_on='number')\n",
    "peaks_files_rats = pd.merge(peaks_files, files_rats, on='filename', how='left')\n",
    "peaks_files_rats['peak_width'] = peaks_files_rats['Peak high KO'] - peaks_files_rats['Peak low KO']"
   ]
  },
  {
   "cell_type": "code",
   "execution_count": null,
   "metadata": {},
   "outputs": [],
   "source": [
    "sham_rats = [r.full_label for r in dm.Rat.select(dm.Rat.full_label).where(dm.Rat.group == 'control').order_by(dm.Rat.full_label)]\n",
    "ohda_rats = [r.full_label for r in dm.Rat.select(dm.Rat.full_label).where(dm.Rat.group == '6OHDA').order_by(dm.Rat.full_label)]"
   ]
  },
  {
   "cell_type": "code",
   "execution_count": null,
   "metadata": {},
   "outputs": [],
   "source": [
    "print(f'6OHDA mode: {peaks_files_rats[peaks_files_rats[\"group\"] == \"6OHDA\"][\"Peak location KO\"].mode()}')\n",
    "print(f'control mode: {peaks_files_rats[peaks_files_rats[\"group\"] == \"control\"][\"Peak location KO\"].mode()}')"
   ]
  },
  {
   "cell_type": "code",
   "execution_count": null,
   "metadata": {},
   "outputs": [],
   "source": [
    "peaks_files_rats[(peaks_files_rats[\"group\"] == \"control\") & (peaks_files_rats[\"Peak location KO\"] >= 14) & (peaks_files_rats[\"Peak location KO\"] <= 18)].count() / peaks_files_rats[(peaks_files_rats[\"group\"] == \"control\")].count()"
   ]
  },
  {
   "cell_type": "code",
   "execution_count": null,
   "metadata": {},
   "outputs": [],
   "source": [
    "peaks_files_rats[(peaks_files_rats[\"group\"] == \"6OHDA\") & (peaks_files_rats[\"Peak location KO\"] >= 14) & (peaks_files_rats[\"Peak location KO\"] <= 18)].count() / peaks_files_rats[(peaks_files_rats[\"group\"] == \"6OHDA\")].count()"
   ]
  },
  {
   "cell_type": "code",
   "execution_count": null,
   "metadata": {},
   "outputs": [],
   "source": [
    "peak_location_frequency_ohda = 100 * peaks_files_rats[peaks_files_rats[\"group\"] == \"6OHDA\"][\"Peak location KO\"].value_counts() / peaks_files_rats[peaks_files_rats[\"group\"] == \"6OHDA\"][\"Peak location KO\"].value_counts().sum()"
   ]
  },
  {
   "cell_type": "code",
   "execution_count": null,
   "metadata": {},
   "outputs": [],
   "source": [
    "peak_location_frequency_control = 100 * peaks_files_rats[peaks_files_rats[\"group\"] == \"control\"][\"Peak location KO\"].value_counts() / peaks_files_rats[peaks_files_rats[\"group\"] == \"control\"][\"Peak location KO\"].value_counts().sum()\n"
   ]
  },
  {
   "cell_type": "code",
   "execution_count": null,
   "metadata": {},
   "outputs": [],
   "source": [
    "fig = plt.figure(figsize=(21, 9))\n",
    "plt.bar(peak_location_frequency_ohda.index.tolist(), peak_location_frequency_ohda, facecolor=rdplot.sham_ohda_palette[\"ohda\"], alpha=0.7)\n",
    "plt.bar(peak_location_frequency_control.index.tolist(), peak_location_frequency_control, facecolor=rdplot.sham_ohda_palette[\"sham\"], alpha=0.5)\n",
    "ax = fig.axes[0]\n",
    "plt.title(\"Density of most significant peak locations in sham and 6-OHDA rats\", fontsize=30)\n",
    "plt.legend([\"6-OHDA\", \"sham\"], fontsize=30)\n",
    "ax.tick_params(axis='both', which='major', labelsize=22)\n",
    "plt.xlabel('Frequency [Hz]', fontsize=22)\n",
    "plt.ylabel('Percent of total', fontsize=22)\n",
    "ax.spines['top'].set_visible(False)\n",
    "ax.spines['right'].set_visible(False)\n",
    "plt.savefig('plots/peaks/0_peak_location_density.png', bbox_inches='tight')\n",
    "plt.savefig('plots/peaks/0_peak_location_density.svg', bbox_inches='tight')"
   ]
  },
  {
   "cell_type": "code",
   "execution_count": null,
   "metadata": {},
   "outputs": [],
   "source": [
    "print(f\"OHDA kurtosis: {peak_location_frequency_ohda.kurtosis()}, control kurtosis: {peak_location_frequency_control.kurtosis()}\")\n",
    "scipy.stats.ks_2samp(peak_location_frequency_control, peak_location_frequency_ohda)"
   ]
  },
  {
   "cell_type": "code",
   "execution_count": null,
   "metadata": {},
   "outputs": [],
   "source": [
    "rdplot.plot_peak_info(peaks_files_rats, 'Peak location KO', ohda_rats, sham_rats[1:], 'plots/blinded_power_spectra/0_peak_locations_baseline', ylim=[12.7, 29.3], figsize=(18, 10))"
   ]
  },
  {
   "cell_type": "code",
   "execution_count": null,
   "metadata": {},
   "outputs": [],
   "source": [
    "rdplot.plot_peak_info(peaks_files_rats, 'peak_width', ohda_rats, sham_rats[1:], 'plots/blinded_power_spectra/0_peak_widths_baseline', ylim=[0.7, 8.3], figsize=(18, 10))"
   ]
  }
 ],
 "metadata": {
  "kernelspec": {
   "display_name": "Python 3.9.5 ('venv': venv)",
   "language": "python",
   "name": "python3"
  },
  "language_info": {
   "codemirror_mode": {
    "name": "ipython",
    "version": 3
   },
   "file_extension": ".py",
   "mimetype": "text/x-python",
   "name": "python",
   "nbconvert_exporter": "python",
   "pygments_lexer": "ipython3",
   "version": "3.9.5"
  },
  "vscode": {
   "interpreter": {
    "hash": "71ecfc0ae2bb458425d39bf321c634e8cafd0685753a20a4aa768ea01a8df2c2"
   }
  }
 },
 "nbformat": 4,
 "nbformat_minor": 2
}
