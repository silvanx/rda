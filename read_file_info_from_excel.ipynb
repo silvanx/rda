{
 "cells": [
  {
   "cell_type": "code",
   "execution_count": null,
   "metadata": {},
   "outputs": [],
   "source": [
    "import pandas as pd\n",
    "from ratdata import data_manager as dm\n",
    "import re\n",
    "import numpy as np"
   ]
  },
  {
   "cell_type": "code",
   "execution_count": null,
   "metadata": {},
   "outputs": [],
   "source": [
    "dm.db_connect('rat_data.db')\n",
    "update = False"
   ]
  },
  {
   "cell_type": "code",
   "execution_count": null,
   "metadata": {},
   "outputs": [],
   "source": [
    "df = pd.read_excel('data/file overview.xlsx')"
   ]
  },
  {
   "cell_type": "code",
   "execution_count": null,
   "metadata": {},
   "outputs": [],
   "source": [
    "files_not_in_db = []\n",
    "for index, row in df.iterrows():\n",
    "    fname = row['File name']\n",
    "    if str(fname) != 'nan':\n",
    "        if not re.match('.*\\.mat', fname):\n",
    "            fname = '.'.join([fname, 'mat'])\n",
    "    stim = dm.StimSettings.select().join(dm.RecordingFile).where(dm.RecordingFile.filename == fname)\n",
    "    if stim.count() == 0:\n",
    "        files_not_in_db.append(fname)\n",
    "    else:\n",
    "        stim_setting = stim.get()\n",
    "        xfa = str(row['DBS amplitude']).split('.')[0]\n",
    "        dba = str(stim_setting.max_amplitude)\n",
    "        if xfa != dba and (xfa != 'nan' or dba != 'None'):\n",
    "                print('%s, ID%d: XLS %s DB %s' % (fname, stim_setting.stim_settings_id, xfa, dba))\n",
    "                if xfa == 'nan' and update:\n",
    "                    dm.StimSettings.update(max_amplitude=None).where(dm.StimSettings.stim_settings_id == stim_setting.stim_settings_id).execute()\n",
    "                elif update:\n",
    "                    dm.StimSettings.update(max_amplitude=int(xfa)).where(dm.StimSettings.stim_settings_id == stim_setting.stim_settings_id).execute()\n",
    "print('FILES NOT IN DB:')\n",
    "for s in files_not_in_db:\n",
    "    print(s)"
   ]
  },
  {
   "cell_type": "code",
   "execution_count": null,
   "metadata": {},
   "outputs": [],
   "source": []
  }
 ],
 "metadata": {
  "interpreter": {
   "hash": "71ecfc0ae2bb458425d39bf321c634e8cafd0685753a20a4aa768ea01a8df2c2"
  },
  "kernelspec": {
   "display_name": "Python 3.9.5 ('venv': venv)",
   "language": "python",
   "name": "python3"
  },
  "language_info": {
   "codemirror_mode": {
    "name": "ipython",
    "version": 3
   },
   "file_extension": ".py",
   "mimetype": "text/x-python",
   "name": "python",
   "nbconvert_exporter": "python",
   "pygments_lexer": "ipython3",
   "version": "3.9.5"
  }
 },
 "nbformat": 4,
 "nbformat_minor": 2
}
