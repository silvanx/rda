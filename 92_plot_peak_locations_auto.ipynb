{
 "cells": [
  {
   "cell_type": "code",
   "execution_count": null,
   "metadata": {},
   "outputs": [],
   "source": [
    "from ratdata import data_manager as dm, process, ingest, plot\n",
    "import numpy as np\n",
    "import matplotlib.pyplot as plt\n",
    "from pathlib import Path\n",
    "import scipy.signal as signal\n",
    "import peewee"
   ]
  },
  {
   "cell_type": "code",
   "execution_count": null,
   "metadata": {},
   "outputs": [],
   "source": [
    "dm.db_connect('rat_data.db')"
   ]
  },
  {
   "cell_type": "code",
   "execution_count": null,
   "metadata": {},
   "outputs": [],
   "source": [
    "beta_low = 11\n",
    "beta_high = 30"
   ]
  },
  {
   "cell_type": "code",
   "execution_count": null,
   "metadata": {},
   "outputs": [],
   "source": [
    "exceptions = {\n",
    "}\n",
    "\n",
    "rat_peaks = dict()\n",
    "\n",
    "for r in dm.RecordingFile.select().where(dm.RecordingFile.condition == 'baseline'):\n",
    "    filename = Path(r.dirname) / r.filename\n",
    "    rec = ingest.read_mce_matlab_file(filename)\n",
    "    if dm.is_recording_rejected(filename.name):\n",
    "        continue\n",
    "\n",
    "    fs = int(1/rec.dt)\n",
    "    \n",
    "    x = np.mean(rec.electrode_data, 0)\n",
    "    if dm.is_recording_sliced(r.filename):\n",
    "        slice = dm.RecordingSlice.select().join(dm.RecordingFile).where(dm.RecordingFile.filename == filename.name).get()\n",
    "        start = int(slice.start * fs)\n",
    "        end = int((slice.start + slice.length) * fs)\n",
    "        x = x[start:end]\n",
    "    rat_label = dm.RecordingFile.select().where(dm.RecordingFile.filename == filename.name).get().rat.full_label\n",
    "\n",
    "    f, psd = signal.welch(x, fs, nperseg=int(2*fs))\n",
    "    m, b = process.fit_oof(f, psd, 2, 100)\n",
    "    f[0] = 1e-20\n",
    "    oof = f ** m * (np.e ** b)\n",
    "    detrended = psd - oof\n",
    "    idx = np.logical_and(f >= 10, f <= 35)\n",
    "    peaks = process.find_peaks(f, detrended, beta_low, beta_high)\n",
    "    if filename.stem in exceptions:\n",
    "        selected_peak = exceptions[filename.stem]\n",
    "    else:\n",
    "        selected_peak = 0\n",
    "    if rat_label in rat_peaks:\n",
    "        rat_peaks[rat_label].append(peaks[selected_peak])\n",
    "    else:\n",
    "        rat_peaks[rat_label] = [peaks[selected_peak]]\n",
    "    plt.figure(figsize=(12, 6))\n",
    "    plt.plot(f[idx], detrended[idx])\n",
    "    plt.title(filename.stem)\n",
    "    if len(peaks) == 0:\n",
    "        print('No peaks: %s' % rec.filename)\n",
    "    else:\n",
    "        px, py, _ = peaks[selected_peak]\n",
    "        plt.plot(px, py, 'x')\n",
    "    plt.savefig('plots/peaks/baseline_%s_%s.png' % (rat_label, filename.stem), facecolor='white', bbox_inches='tight')\n",
    "    plt.savefig('plots/peaks/baseline_%s_%s.svg' % (rat_label, filename.stem), facecolor='white', bbox_inches='tight')\n",
    "    plt.close()"
   ]
  },
  {
   "cell_type": "code",
   "execution_count": null,
   "metadata": {},
   "outputs": [],
   "source": [
    "plot.plot_peak_location_and_height(rat_peaks, ' (baseline recordings)', 'plots/peaks/0peak_locations_baseline', x_lim=[10, 30], y_lim=[-5e-5, 1.5e-4])\n"
   ]
  },
  {
   "cell_type": "code",
   "execution_count": null,
   "metadata": {},
   "outputs": [],
   "source": [
    "rat_peaks_no_stim = dict()\n",
    "exceptions_no_stim = {\n",
    "}\n",
    "\n",
    "for r in dm.RecordingFile.select().join(dm.StimSettings).where((dm.RecordingFile.condition != 'baseline') & (dm.StimSettings.stim_type == 'nostim')):\n",
    "    filename = Path(r.dirname) / r.filename\n",
    "    rec = ingest.read_mce_matlab_file(filename)\n",
    "    if dm.is_recording_rejected(filename.name):\n",
    "        continue\n",
    "\n",
    "    fs = int(1/rec.dt)\n",
    "    \n",
    "    x = np.mean(rec.electrode_data, 0)\n",
    "    if dm.is_recording_sliced(r.filename):\n",
    "        slice = dm.RecordingSlice.select().join(dm.RecordingFile).where(dm.RecordingFile.filename == filename.name).get()\n",
    "        start = int(slice.start * fs)\n",
    "        end = int((slice.start + slice.length) * fs)\n",
    "        x = x[start:end]\n",
    "    rat_label = dm.RecordingFile.select().where(dm.RecordingFile.filename == filename.name).get().rat.full_label\n",
    "\n",
    "    f, psd = signal.welch(x, fs, nperseg=int(0.5*fs))\n",
    "    m, b = process.fit_oof(f, psd, 2, 100)\n",
    "    f[0] = 1e-20\n",
    "    oof = f ** m * (np.e ** b)\n",
    "    detrended = psd - oof\n",
    "    idx = np.logical_and(f >= 10, f <= 35)\n",
    "    peaks = process.find_peaks(f, detrended, beta_low, beta_high)\n",
    "    if filename.stem in exceptions_no_stim:\n",
    "        selected_peak = exceptions_no_stim[filename.stem]\n",
    "    else:\n",
    "        selected_peak = 0\n",
    "    if rat_label in rat_peaks_no_stim:\n",
    "        if len(peaks) < 1:\n",
    "            print('No peaks detected in %s' % filename.stem)\n",
    "        else:\n",
    "            rat_peaks_no_stim[rat_label].append(peaks[selected_peak])\n",
    "    else:\n",
    "        if len(peaks) < 1:\n",
    "            print('No peaks detected in %s' % filename.stem)\n",
    "        else:\n",
    "            rat_peaks_no_stim[rat_label] = [peaks[selected_peak]]\n",
    "    plt.figure(figsize=(12, 6))\n",
    "    plt.plot(f[idx], detrended[idx])\n",
    "    plt.title(filename.stem)\n",
    "    if len(peaks) == 0:\n",
    "        print('No peaks: %s' % rec.filename)\n",
    "    else:\n",
    "        px, py, _ = peaks[selected_peak]\n",
    "        plt.plot(px, py, 'x')\n",
    "    plt.savefig('plots/peaks/nostim_%s_%s.png' % (rat_label, filename.stem), facecolor='white', bbox_inches='tight')\n",
    "    plt.savefig('plots/peaks/nostim_%s_%s.svg' % (rat_label, filename.stem), facecolor='white', bbox_inches='tight')\n",
    "    plt.close()"
   ]
  },
  {
   "cell_type": "code",
   "execution_count": null,
   "metadata": {},
   "outputs": [],
   "source": [
    "plot.plot_peak_location_and_height(rat_peaks_no_stim, ' (no stim recordings)', 'plots/peaks/0peak_locations_nostim', x_lim=[10, 30], y_lim=[-5e-5, 1.5e-4])"
   ]
  },
  {
   "cell_type": "code",
   "execution_count": null,
   "metadata": {},
   "outputs": [],
   "source": [
    "merged_nostim = dict()\n",
    "for k in rat_peaks.keys():\n",
    "    merged_nostim[k] = rat_peaks[k] + rat_peaks_no_stim[k]\n",
    "plot.plot_peak_location_and_height(merged_nostim, ' (baseline and no stim recordings)', 'plots/peaks/0peak_locations_merged', x_lim=[10, 30], y_lim=[-5e-5, 1.5e-4])\n"
   ]
  },
  {
   "cell_type": "code",
   "execution_count": null,
   "metadata": {},
   "outputs": [],
   "source": [
    "rat_peaks_stim = dict()\n",
    "\n",
    "\n",
    "for r in dm.RecordingFile.select().join(dm.StimSettings).where(\n",
    "        (dm.StimSettings.stim_type == 'continuous') | \n",
    "        (dm.StimSettings.stim_type == 'on-off') |\n",
    "        (dm.StimSettings.stim_type == 'proportional')):\n",
    "    filename = Path(r.dirname) / r.filename\n",
    "    rec = ingest.read_mce_matlab_file(filename)\n",
    "    if dm.is_recording_rejected(filename.name):\n",
    "        continue\n",
    "\n",
    "    fs = int(1/rec.dt)\n",
    "    x = np.mean(rec.electrode_data, 0)\n",
    "    if dm.is_recording_sliced(r.filename):\n",
    "        slice = dm.RecordingSlice.select().join(dm.RecordingFile).where(dm.RecordingFile.filename == filename.name).get()\n",
    "        start = int(slice.start * fs)\n",
    "        end = int((slice.start + slice.length) * fs)\n",
    "        x = x[start:end]\n",
    "    rat_label = dm.RecordingFile.select().where(dm.RecordingFile.filename == filename.name).get().rat.full_label\n",
    "    \n",
    "    b, a = signal.iirnotch(25.5, 20, fs=fs)\n",
    "    x = signal.filtfilt(b, a, x)\n",
    "\n",
    "    f, psd = signal.welch(x, fs, nperseg=2 * fs, noverlap=int(1.5 * fs))\n",
    "    id13 = np.where(f==13)[0][0]\n",
    "    psd[id13 - 1:id13 + 2] = (psd[id13 - 2] + psd[id13 + 2]) / 2\n",
    "    \n",
    "    m, b = process.fit_oof(f, psd, 2, 100)\n",
    "    f[0] = 1e-20\n",
    "    oof = f ** m * (np.e ** b)\n",
    "    detrended = psd - oof\n",
    "    idx = np.logical_and(f >= 10, f <= 35)\n",
    "    peaks = process.find_peaks(f, detrended, beta_low, beta_high)\n",
    "    selected_peak = 0\n",
    "    if rat_label in rat_peaks_stim:\n",
    "        rat_peaks_stim[rat_label].append(peaks[selected_peak])\n",
    "    else:\n",
    "        rat_peaks_stim[rat_label] = [peaks[selected_peak]]\n",
    "    plt.figure(figsize=(12, 6))\n",
    "    plt.plot(f[idx], detrended[idx])\n",
    "    plt.title(filename.stem)\n",
    "    if len(peaks) == 0:\n",
    "        print('No peaks: %s' % rec.filename)\n",
    "    else:\n",
    "        px, py, _ = peaks[selected_peak]\n",
    "        plt.plot(px, py, 'x')\n",
    "    plt.savefig('plots/peaks/stim_%s_%s.png' % (rat_label, filename.stem), facecolor='white', bbox_inches='tight')\n",
    "    plt.savefig('plots/peaks/stim_%s_%s.svg' % (rat_label, filename.stem), facecolor='white', bbox_inches='tight')\n",
    "    plt.close()"
   ]
  },
  {
   "cell_type": "code",
   "execution_count": null,
   "metadata": {},
   "outputs": [],
   "source": [
    "plot.plot_peak_location_and_height(rat_peaks_stim, ' (stim recordings)', 'plots/peaks/0peak_locations_stim', x_lim=[10, 30], y_lim=[-5e-5, 1.5e-4])"
   ]
  }
 ],
 "metadata": {
  "interpreter": {
   "hash": "71ecfc0ae2bb458425d39bf321c634e8cafd0685753a20a4aa768ea01a8df2c2"
  },
  "kernelspec": {
   "display_name": "Python 3.9.5 ('venv': venv)",
   "language": "python",
   "name": "python3"
  },
  "language_info": {
   "codemirror_mode": {
    "name": "ipython",
    "version": 3
   },
   "file_extension": ".py",
   "mimetype": "text/x-python",
   "name": "python",
   "nbconvert_exporter": "python",
   "pygments_lexer": "ipython3",
   "version": "3.9.5"
  }
 },
 "nbformat": 4,
 "nbformat_minor": 2
}
