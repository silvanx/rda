{
 "cells": [
  {
   "cell_type": "code",
   "execution_count": null,
   "metadata": {},
   "outputs": [],
   "source": [
    "filename = 'data/oof-2-100.txt'"
   ]
  },
  {
   "cell_type": "code",
   "execution_count": null,
   "metadata": {},
   "outputs": [],
   "source": [
    "import pandas as pd"
   ]
  },
  {
   "cell_type": "code",
   "execution_count": null,
   "metadata": {},
   "outputs": [],
   "source": [
    "df = pd.read_csv('data/oof-2-100.txt', sep=',')\n",
    "\n",
    "df.columns = ['filename', 'oof_exponent', 'stim']"
   ]
  },
  {
   "cell_type": "code",
   "execution_count": null,
   "metadata": {},
   "outputs": [],
   "source": [
    "import seaborn as sns\n",
    "import matplotlib.pyplot as plt\n",
    "from ratdata import plot as rdplot"
   ]
  },
  {
   "cell_type": "code",
   "execution_count": null,
   "metadata": {},
   "outputs": [],
   "source": [
    "labels = ['nostim', 'continuous', 'on-off', 'proportional', 'random', 'low', 'low20']\n",
    "plt.figure(figsize=(20, 10))\n",
    "sns.boxplot(x='stim', y='oof_exponent', data=df, palette=rdplot.stim_type_palette, order=labels, boxprops=dict(alpha=rdplot.boxplot_alpha))\n",
    "sns.swarmplot(x='stim', y='oof_exponent', data=df, s=6, order=labels, palette=rdplot.stim_type_palette)\n",
    "plt.savefig('plots/oof/oof_exponent.svg', bbox_inches='tight', facecolor='white')"
   ]
  },
  {
   "cell_type": "code",
   "execution_count": null,
   "metadata": {},
   "outputs": [],
   "source": [
    "import scipy.stats as stats\n",
    "from statannot import add_stat_annotation"
   ]
  },
  {
   "cell_type": "code",
   "execution_count": null,
   "metadata": {},
   "outputs": [],
   "source": [
    "f_value, p_value = stats.f_oneway(df.loc[df['stim'] == 'continuous']['oof_exponent'], df.loc[df['stim'] == 'nostim']['oof_exponent'], df.loc[df['stim'] == 'on-off']['oof_exponent'], df.loc[df['stim'] == 'random']['oof_exponent'], df.loc[df['stim'] == 'proportional']['oof_exponent'], df.loc[df['stim'] == 'low']['oof_exponent'], df.loc[df['stim'] == 'low20']['oof_exponent'])\n",
    "print(f_value, p_value)"
   ]
  },
  {
   "cell_type": "code",
   "execution_count": null,
   "metadata": {},
   "outputs": [],
   "source": [
    "res = stats.tukey_hsd(df.loc[df['stim'] == 'nostim']['oof_exponent'], df.loc[df['stim'] == 'continuous']['oof_exponent'], df.loc[df['stim'] == 'on-off']['oof_exponent'], df.loc[df['stim'] == 'random']['oof_exponent'], df.loc[df['stim'] == 'proportional']['oof_exponent'], df.loc[df['stim'] == 'low']['oof_exponent'], df.loc[df['stim'] == 'low20']['oof_exponent'])"
   ]
  },
  {
   "cell_type": "code",
   "execution_count": null,
   "metadata": {},
   "outputs": [],
   "source": [
    "labels = ['nostim', 'continuous', 'on-off', 'proportional', 'random', 'low', 'low20']\n",
    "plt.figure(figsize=(14, 10))\n",
    "ax = sns.boxplot(x='stim', y='oof_exponent', data=df, order=labels, palette=rdplot.stim_type_palette, boxprops=dict(alpha=rdplot.boxplot_alpha))\n",
    "sns.swarmplot(x='stim', y='oof_exponent', data=df, size=6, order=labels, palette=rdplot.stim_type_palette)\n",
    "three_star_pairs = []\n",
    "for i in range(len(labels)):\n",
    "    for j in range(i + 1, len(labels)):\n",
    "        if res.pvalue[i, j] < 1:\n",
    "            three_star_pairs.append((labels[i], labels[j]))\n",
    "add_stat_annotation(ax, data=df, x='stim', y='oof_exponent', order=labels, box_pairs=three_star_pairs, text_format='star', test='Mann-Whitney')\n",
    "plt.savefig('plots/oof/oof_exponents_stat.svg', facecolor='white', bbox_inches='tight')"
   ]
  }
 ],
 "metadata": {
  "kernelspec": {
   "display_name": "Python 3.9.5 ('venv': venv)",
   "language": "python",
   "name": "python3"
  },
  "language_info": {
   "codemirror_mode": {
    "name": "ipython",
    "version": 3
   },
   "file_extension": ".py",
   "mimetype": "text/x-python",
   "name": "python",
   "nbconvert_exporter": "python",
   "pygments_lexer": "ipython3",
   "version": "3.9.5"
  },
  "vscode": {
   "interpreter": {
    "hash": "71ecfc0ae2bb458425d39bf321c634e8cafd0685753a20a4aa768ea01a8df2c2"
   }
  }
 },
 "nbformat": 4,
 "nbformat_minor": 2
}
