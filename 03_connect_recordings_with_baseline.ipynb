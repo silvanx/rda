{
 "cells": [
  {
   "cell_type": "code",
   "execution_count": null,
   "metadata": {},
   "outputs": [],
   "source": [
    "import ratdata.data_manager as dm\n",
    "from ratdata.data_manager import RecordingFile\n",
    "import datetime"
   ]
  },
  {
   "cell_type": "code",
   "execution_count": null,
   "metadata": {},
   "outputs": [],
   "source": [
    "dm.db_connect('rat_data.db')"
   ]
  },
  {
   "cell_type": "code",
   "execution_count": null,
   "metadata": {},
   "outputs": [],
   "source": [
    "files_behaviour = RecordingFile.select().where((RecordingFile.condition != 'baseline'))\\\n",
    "    .order_by(RecordingFile.recording_date, RecordingFile.rat_id)\n",
    "files_without_baseline = [f for f in files_behaviour if not f.baseline.exists()]"
   ]
  },
  {
   "cell_type": "code",
   "execution_count": null,
   "metadata": {},
   "outputs": [],
   "source": [
    "unprocessed_files = len(files_without_baseline)\n",
    "for i, f in enumerate(files_without_baseline):\n",
    "    potential_baseline = RecordingFile.select().where((RecordingFile.rat == f.rat) &\n",
    "                                                      (RecordingFile.recording_date == f.recording_date) &\n",
    "                                                      (RecordingFile.condition == 'baseline'))\n",
    "    if potential_baseline.count() == 1:\n",
    "        print('[%d/%d] %s: %s' % (i+1, unprocessed_files, f.filename, potential_baseline.get().filename))\n",
    "        dm.RecordingBaseline.get_or_create(recording=f, baseline=potential_baseline)\n",
    "    else:\n",
    "        print('[%d/%d] %s. %s: \\x1b[31mSKIP\\x1b[0m (found %d baseline files)' % (i+1, unprocessed_files, str(f.file_id).rjust(3), f.filename, potential_baseline.count()))\n",
    "        for bf in potential_baseline:\n",
    "            print('\\t%d. %s' % (bf.file_id, bf.filename))\n",
    "    "
   ]
  },
  {
   "cell_type": "code",
   "execution_count": null,
   "metadata": {},
   "outputs": [],
   "source": [
    "res = RecordingFile.select().where((RecordingFile.recording_date == datetime.date(2021, 6,9)) & (RecordingFile.rat_id == 4) & (RecordingFile.condition != 'baseline')).order_by(RecordingFile.filename)\n",
    "base = RecordingFile.get(RecordingFile.file_id == 277)\n",
    "print(base.filename)\n",
    "for f in res:\n",
    "    dm.RecordingBaseline.get_or_create(recording=f, baseline=base)\n",
    "    print('%d. %s' % (f.file_id, f.filename))"
   ]
  },
  {
   "cell_type": "markdown",
   "metadata": {},
   "source": [
    "The next four cells serve to manually assign the baseline to recordings where it wasn't automatically clear"
   ]
  },
  {
   "cell_type": "code",
   "execution_count": null,
   "metadata": {},
   "outputs": [],
   "source": [
    "res = RecordingFile.select().where((RecordingFile.recording_date == datetime.date(2021, 7, 1)) & (RecordingFile.condition != 'baseline') & (RecordingFile.rat_id == 5)).order_by(RecordingFile.filename)\n",
    "base = RecordingFile.get(RecordingFile.file_id == 116)\n",
    "print(base.filename)\n",
    "for f in res:\n",
    "    dm.RecordingBaseline.get_or_create(recording=f, baseline=base)\n",
    "    print('%d. %s' % (f.file_id, f.filename))"
   ]
  },
  {
   "cell_type": "code",
   "execution_count": null,
   "metadata": {},
   "outputs": [],
   "source": [
    "res = RecordingFile.select().where((RecordingFile.recording_date == datetime.date(2021, 7, 26)) & (RecordingFile.rat_id == 4) & (RecordingFile.condition != 'baseline')).order_by(RecordingFile.filename)\n",
    "base = RecordingFile.get(RecordingFile.file_id == 190)\n",
    "print(base.filename)\n",
    "for f in res:\n",
    "    dm.RecordingBaseline.get_or_create(recording=f, baseline=base)\n",
    "    print('%d. %s' % (f.file_id, f.filename))"
   ]
  },
  {
   "cell_type": "code",
   "execution_count": null,
   "metadata": {},
   "outputs": [],
   "source": [
    "res = RecordingFile.select().where((RecordingFile.recording_date == datetime.date(2021, 7, 26)) & (RecordingFile.rat_id == 5) & (RecordingFile.condition != 'baseline')).order_by(RecordingFile.filename)\n",
    "base = RecordingFile.get(RecordingFile.file_id == 129)\n",
    "print(base.filename)\n",
    "for f in res:\n",
    "    print('%d. %s' % (f.file_id, f.filename))\n",
    "    dm.RecordingBaseline.get_or_create(recording=f, baseline=base)"
   ]
  },
  {
   "cell_type": "code",
   "execution_count": null,
   "metadata": {},
   "outputs": [],
   "source": [
    "res = RecordingFile.select().where((RecordingFile.recording_date == datetime.date(2022, 3, 3)) & (RecordingFile.rat_id == 10) & (RecordingFile.condition != 'baseline')).order_by(RecordingFile.filename)\n",
    "base = RecordingFile.get(RecordingFile.file_id == 461)\n",
    "print(base.filename)\n",
    "for f in res:\n",
    "    print('%d. %s' % (f.file_id, f.filename))\n",
    "    dm.RecordingBaseline.get_or_create(recording=f, baseline=base)"
   ]
  }
 ],
 "metadata": {
  "interpreter": {
   "hash": "75aabafc8459505f3d11f3bf65d7703e8f22251d44e64c91c4dfa232af0c99ec"
  },
  "kernelspec": {
   "display_name": "Python 3.9.5 ('venv': venv)",
   "language": "python",
   "name": "python3"
  },
  "language_info": {
   "codemirror_mode": {
    "name": "ipython",
    "version": 3
   },
   "file_extension": ".py",
   "mimetype": "text/x-python",
   "name": "python",
   "nbconvert_exporter": "python",
   "pygments_lexer": "ipython3",
   "version": "3.9.5"
  }
 },
 "nbformat": 4,
 "nbformat_minor": 2
}
