{
 "cells": [
  {
   "cell_type": "code",
   "execution_count": 1,
   "metadata": {},
   "outputs": [],
   "source": [
    "from ratdata import data_manager as dm, process, ingest\n",
    "import pathlib"
   ]
  },
  {
   "cell_type": "code",
   "execution_count": 2,
   "metadata": {},
   "outputs": [],
   "source": [
    "dm.db_connect('rat_data.db')"
   ]
  },
  {
   "cell_type": "code",
   "execution_count": 3,
   "metadata": {},
   "outputs": [],
   "source": [
    "recording_files = dm.RecordingFile.select()"
   ]
  },
  {
   "cell_type": "code",
   "execution_count": null,
   "metadata": {},
   "outputs": [],
   "source": [
    "for i, f in enumerate(recording_files):\n",
    "    fname = pathlib.Path(f.dirname) / f.filename\n",
    "    recording = ingest.read_mce_matlab_file(str(fname))\n",
    "    recording_beta_power = process.compute_power_in_frequency_band(recording.electrode_data.mean(0), 10, 30, int(1/recording.dt))\n",
    "    recording_total_power = process.compute_power_in_frequency_band(recording.electrode_data.mean(0), 1, 100, int(1/recording.dt))\n",
    "    rp_id = dm.RecordingPower.replace(recording=f, beta_power=recording_beta_power, total_power=recording_total_power).execute()\n",
    "    print('[%d/%d] %s: %d' % (i + 1, len(recording_files), f.filename, rp_id))\n",
    "    "
   ]
  },
  {
   "cell_type": "code",
   "execution_count": null,
   "metadata": {},
   "outputs": [],
   "source": []
  }
 ],
 "metadata": {
  "interpreter": {
   "hash": "75aabafc8459505f3d11f3bf65d7703e8f22251d44e64c91c4dfa232af0c99ec"
  },
  "kernelspec": {
   "display_name": "Python 3.9.5 ('venv': venv)",
   "language": "python",
   "name": "python3"
  },
  "language_info": {
   "codemirror_mode": {
    "name": "ipython",
    "version": 3
   },
   "file_extension": ".py",
   "mimetype": "text/x-python",
   "name": "python",
   "nbconvert_exporter": "python",
   "pygments_lexer": "ipython3",
   "version": "3.9.5"
  },
  "orig_nbformat": 4
 },
 "nbformat": 4,
 "nbformat_minor": 2
}
