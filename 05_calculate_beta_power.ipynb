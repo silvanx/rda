{
 "cells": [
  {
   "cell_type": "code",
   "execution_count": null,
   "metadata": {},
   "outputs": [],
   "source": [
    "from ratdata import data_manager as dm, process, ingest\n",
    "import scipy.signal as signal\n",
    "import pathlib"
   ]
  },
  {
   "cell_type": "code",
   "execution_count": null,
   "metadata": {},
   "outputs": [],
   "source": [
    "dm.db_connect('rat_data.db')"
   ]
  },
  {
   "cell_type": "code",
   "execution_count": null,
   "metadata": {},
   "outputs": [],
   "source": [
    "recording_files = dm.RecordingFile.select()"
   ]
  },
  {
   "cell_type": "code",
   "execution_count": null,
   "metadata": {},
   "outputs": [],
   "source": [
    "recalculate = True\n",
    "scale = 1\n",
    "beta_low = 14\n",
    "beta_high = 18\n",
    "oof_fit_low = 2\n",
    "oof_fit_high = 100\n",
    "total_low = 10\n",
    "total_high = 100\n",
    "target_fs = 500\n",
    "length_seconds = 5\n",
    "f_b, f_a = signal.iirnotch(50, 30, target_fs)\n",
    "\n",
    "for i, f in enumerate(recording_files):\n",
    "    if recalculate or (f.slice.count() == 1 and f.slice.get().updated):\n",
    "        fname = pathlib.Path(f.dirname) / f.filename\n",
    "        recording = ingest.read_mce_matlab_file(str(fname))\n",
    "        fs = int(1 / recording.dt)\n",
    "        if f.slice.count() == 1:\n",
    "            slice = f.slice.get()\n",
    "            data, tt = process.trim_recording(recording.electrode_data.mean(0), fs, slice.start, slice.length)\n",
    "        else:\n",
    "            data = recording.electrode_data.mean(0)\n",
    "        # Decimate\n",
    "        data = signal.decimate(data, int(fs / target_fs))\n",
    "        # Reject 50 Hz\n",
    "        data = signal.filtfilt(f_b, f_a, data)\n",
    "        # Select first 5 s\n",
    "        data = data[:length_seconds * target_fs]\n",
    "        recording_beta_power = process.power_in_frequency_band(data, beta_low, beta_high, target_fs)\n",
    "        recording_total_power = process.power_in_frequency_band(data, total_low, total_high, target_fs)\n",
    "        ff, pxx = signal.welch(data, target_fs, nperseg=2 * target_fs)\n",
    "        m, b = process.fit_oof(ff, pxx, oof_fit_low, oof_fit_high)\n",
    "        rp_id = dm.upsert_power_record(f, recording_beta_power, recording_total_power, m, b)\n",
    "        print('[%d/%d] %s: %d' % (i + 1, len(recording_files), f.filename, rp_id))\n",
    "    "
   ]
  }
 ],
 "metadata": {
  "interpreter": {
   "hash": "71ecfc0ae2bb458425d39bf321c634e8cafd0685753a20a4aa768ea01a8df2c2"
  },
  "kernelspec": {
   "display_name": "Python 3.9.5 ('venv': venv)",
   "language": "python",
   "name": "python3"
  },
  "language_info": {
   "codemirror_mode": {
    "name": "ipython",
    "version": 3
   },
   "file_extension": ".py",
   "mimetype": "text/x-python",
   "name": "python",
   "nbconvert_exporter": "python",
   "pygments_lexer": "ipython3",
   "version": "3.9.5"
  }
 },
 "nbformat": 4,
 "nbformat_minor": 2
}
