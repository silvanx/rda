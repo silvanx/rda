{
 "cells": [
  {
   "cell_type": "code",
   "execution_count": null,
   "metadata": {},
   "outputs": [],
   "source": [
    "from ratdata import data_manager as dm, process, ingest\n",
    "import pathlib"
   ]
  },
  {
   "cell_type": "code",
   "execution_count": null,
   "metadata": {},
   "outputs": [],
   "source": [
    "dm.db_connect('rat_data.db')"
   ]
  },
  {
   "cell_type": "code",
   "execution_count": null,
   "metadata": {},
   "outputs": [],
   "source": [
    "recording_files = dm.RecordingFile.select()"
   ]
  },
  {
   "cell_type": "code",
   "execution_count": null,
   "metadata": {},
   "outputs": [],
   "source": [
    "recalculate = True\n",
    "scale = 1\n",
    "\n",
    "for i, f in enumerate(recording_files):\n",
    "    if recalculate or (f.slice.count() == 1 and f.slice.get().updated):\n",
    "        fname = pathlib.Path(f.dirname) / f.filename\n",
    "        recording = ingest.read_mce_matlab_file(str(fname))\n",
    "        if f.slice.count() == 1:\n",
    "            slice = f.slice.get()\n",
    "            data, tt = process.trim_recording(recording.electrode_data.mean(0),\n",
    "                                            int(1/recording.dt), slice.start, slice.length)\n",
    "        else:\n",
    "            data = recording.electrode_data.mean(0)\n",
    "        recording_beta_power = process.compute_power_in_frequency_band(data, 13, 30, int(1/recording.dt))\n",
    "        recording_total_power = process.compute_power_in_frequency_band(data, 10, 100, int(1/recording.dt))\n",
    "        beta_power_no_oof = process.power_in_band_no_oof(data, 13, 30, int(1/recording.dt), 2, 100, scale)\n",
    "        rp_id = dm.upsert_power_record(f, recording_beta_power, recording_total_power, beta_power_no_oof)\n",
    "        print('[%d/%d] %s: %d' % (i + 1, len(recording_files), f.filename, rp_id))\n",
    "    "
   ]
  },
  {
   "cell_type": "code",
   "execution_count": null,
   "metadata": {},
   "outputs": [],
   "source": []
  }
 ],
 "metadata": {
  "interpreter": {
   "hash": "75aabafc8459505f3d11f3bf65d7703e8f22251d44e64c91c4dfa232af0c99ec"
  },
  "kernelspec": {
   "display_name": "Python 3.9.5 ('venv': venv)",
   "language": "python",
   "name": "python3"
  },
  "language_info": {
   "codemirror_mode": {
    "name": "ipython",
    "version": 3
   },
   "file_extension": ".py",
   "mimetype": "text/x-python",
   "name": "python",
   "nbconvert_exporter": "python",
   "pygments_lexer": "ipython3",
   "version": "3.9.5"
  }
 },
 "nbformat": 4,
 "nbformat_minor": 2
}
