{
 "cells": [
  {
   "cell_type": "code",
   "execution_count": null,
   "metadata": {},
   "outputs": [],
   "source": [
    "from ratdata import data_manager as dm, process, ingest\n",
    "import pathlib"
   ]
  },
  {
   "cell_type": "code",
   "execution_count": null,
   "metadata": {},
   "outputs": [],
   "source": [
    "dm.db_connect('rat_data.db')\n",
    "time_slices_file = 'data/mce_recordings/time_slices.pickle'\n",
    "# Read time slices from the file\n",
    "time_slices = ingest.read_file_slices(time_slices_file)"
   ]
  },
  {
   "cell_type": "code",
   "execution_count": null,
   "metadata": {},
   "outputs": [],
   "source": [
    "recording_files = dm.RecordingFile.select()"
   ]
  },
  {
   "cell_type": "code",
   "execution_count": null,
   "metadata": {},
   "outputs": [],
   "source": [
    "for i, f in enumerate(recording_files):\n",
    "    fname = pathlib.Path(f.dirname) / f.filename\n",
    "    recording = ingest.read_mce_matlab_file(str(fname))\n",
    "    filename_stem = f.filename.split('.')[0]\n",
    "    if filename_stem in time_slices:\n",
    "        slice = time_slices[filename_stem]\n",
    "        data, tt = process.trim_recording(recording.electrode_data.mean(0),\n",
    "                                          int(1/recording.dt), slice['start'], slice['length'])\n",
    "    else:\n",
    "        data = recording.electrode_data.mean(0)\n",
    "    recording_beta_power = process.compute_power_in_frequency_band(data, 10, 30, int(1/recording.dt))\n",
    "    recording_total_power = process.compute_power_in_frequency_band(data, 1, 100, int(1/recording.dt))\n",
    "    query = dm.RecordingPower.select(id).where(dm.RecordingPower.recording == dm.RecordingFile.select().where(dm.RecordingFile.filename == f))\n",
    "    rp_id = dm.RecordingPower.replace(recording=f, beta_power=recording_beta_power, total_power=recording_total_power).execute()\n",
    "    print('[%d/%d] %s: %d' % (i + 1, len(recording_files), f.filename, rp_id))\n",
    "    "
   ]
  },
  {
   "cell_type": "code",
   "execution_count": null,
   "metadata": {},
   "outputs": [],
   "source": []
  }
 ],
 "metadata": {
  "interpreter": {
   "hash": "75aabafc8459505f3d11f3bf65d7703e8f22251d44e64c91c4dfa232af0c99ec"
  },
  "kernelspec": {
   "display_name": "Python 3.9.5 ('venv': venv)",
   "language": "python",
   "name": "python3"
  },
  "language_info": {
   "codemirror_mode": {
    "name": "ipython",
    "version": 3
   },
   "file_extension": ".py",
   "mimetype": "text/x-python",
   "name": "python",
   "nbconvert_exporter": "python",
   "pygments_lexer": "ipython3",
   "version": "3.9.5"
  }
 },
 "nbformat": 4,
 "nbformat_minor": 2
}
