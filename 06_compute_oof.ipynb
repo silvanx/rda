{
 "cells": [
  {
   "cell_type": "code",
   "execution_count": null,
   "metadata": {},
   "outputs": [],
   "source": [
    "from ratdata import data_manager as dm, process, ingest, plot as rdplot\n",
    "from pathlib import Path\n",
    "import numpy as np\n",
    "import scipy.signal as signal"
   ]
  },
  {
   "cell_type": "code",
   "execution_count": null,
   "metadata": {},
   "outputs": [],
   "source": [
    "dm.db_connect('rat_data.db')"
   ]
  },
  {
   "cell_type": "code",
   "execution_count": null,
   "metadata": {},
   "outputs": [],
   "source": [
    "f_min = 2\n",
    "f_max = 100\n",
    "outfile = 'data/oof-%d-%d.txt' % (f_min, f_max)\n",
    "with open(outfile, 'w') as f:\n",
    "    f.write('filename,oof_exponent,stim\\n')\n",
    "\n",
    "all_recordings = dm.RecordingFile.select().count()\n",
    "for i, r in enumerate(dm.RecordingFile.select()):\n",
    "    if dm.is_recording_rejected(r.filename):\n",
    "            continue\n",
    "    if r.power.count() > 0:\n",
    "        m = r.power.get().oof_exponent\n",
    "    else:\n",
    "        full_filename = Path(r.dirname) / r.filename\n",
    "        data = ingest.read_mce_matlab_file(str(full_filename))\n",
    "        if dm.is_recording_sliced(r.filename):\n",
    "            slice = r.slice.get()\n",
    "            slice_start = int(slice.start / data.dt)\n",
    "            slice_end = slice_start + int(slice.length / data.dt)\n",
    "            x = np.mean(data.electrode_data[:, slice_start:slice_end], 0)\n",
    "        else:\n",
    "            x = np.mean(data.electrode_data, 0)\n",
    "        fs = int(1/data.dt)\n",
    "        ff, pxx = signal.welch(x, fs, nperseg=fs)\n",
    "        m, b = process.fit_oof(ff, pxx, f_min, f_max)\n",
    "    if r.stim.count() != 0 and r.stim.get().stim_type != 'nostim':\n",
    "        stim = r.stim.get().stim_type\n",
    "    else:\n",
    "        stim = 'nostim'\n",
    "    print('[%d/%d] %s %.2f %s' % (i+1, all_recordings, r.filename, m, stim))\n",
    "    with open(outfile, 'a') as f:\n",
    "        f.write('%s,%.2f,%s\\n' % (r.filename, m, stim))\n",
    "        "
   ]
  }
 ],
 "metadata": {
  "interpreter": {
   "hash": "71ecfc0ae2bb458425d39bf321c634e8cafd0685753a20a4aa768ea01a8df2c2"
  },
  "kernelspec": {
   "display_name": "Python 3.9.5 ('venv': venv)",
   "language": "python",
   "name": "python3"
  },
  "language_info": {
   "codemirror_mode": {
    "name": "ipython",
    "version": 3
   },
   "file_extension": ".py",
   "mimetype": "text/x-python",
   "name": "python",
   "nbconvert_exporter": "python",
   "pygments_lexer": "ipython3",
   "version": "3.9.5"
  }
 },
 "nbformat": 4,
 "nbformat_minor": 2
}
