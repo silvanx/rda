{
 "cells": [
  {
   "cell_type": "code",
   "execution_count": null,
   "metadata": {},
   "outputs": [],
   "source": [
    "from ratdata import data_manager as dm, plot as rdplot\n",
    "import pandas as pd\n",
    "import seaborn as sns\n",
    "import matplotlib.pyplot as plt"
   ]
  },
  {
   "cell_type": "code",
   "execution_count": null,
   "metadata": {},
   "outputs": [],
   "source": [
    "dm.db_connect('rat_data.db')"
   ]
  },
  {
   "cell_type": "code",
   "execution_count": null,
   "metadata": {},
   "outputs": [],
   "source": [
    "change_relative_beta_dfs = []\n",
    "relative_beta_dfs = []\n",
    "for r in dm.Rat.select().where(dm.Rat.group == '6OHDA'):\n",
    "    # rdplot.plot_beta_one_rat(r.full_label, img_filename='plots/beta_rat/beta_no_oof_%s.png' % r.full_label, remove_oof=True)\n",
    "    \n",
    "    relative_beta_dfs.append(rdplot.plot_relative_beta_one_rat(r.full_label, img_filename='plots/beta_rat/relative_beta_%s.png' % r.full_label, remove_oof=False))\n",
    "    change_relative_beta_dfs.append(rdplot.plot_change_relative_beta_one_rat(r.full_label, img_filename='plots/beta_rat/change_relative_beta_%s.png' % r.full_label, remove_oof=False))"
   ]
  },
  {
   "cell_type": "code",
   "execution_count": null,
   "metadata": {},
   "outputs": [],
   "source": [
    "change_rel_beta_df = pd.concat(change_relative_beta_dfs)\n",
    "with open('data/all_ohda_rats.csv', 'w') as f:\n",
    "    change_rel_beta_df.sort_values(by=['stim', 'power']).to_csv(f)"
   ]
  },
  {
   "cell_type": "code",
   "execution_count": null,
   "metadata": {},
   "outputs": [],
   "source": [
    "label_order = ['nostim', 'continuous', 'on-off', 'random',\n",
    "               'proportional', 'low', 'low20']\n",
    "fig = plt.figure(figsize=(12, 6))\n",
    "sns.boxplot(x='stim', y='power', data=change_rel_beta_df, palette='Dark2',\n",
    "            order=label_order, boxprops=dict(alpha=.8))\n",
    "sns.swarmplot(x='stim', y='power', data=change_rel_beta_df, s=4, palette='Dark2',\n",
    "                order=label_order)\n",
    "plt.xlabel('Stimulation')\n",
    "plt.ylabel('Change in relative beta with respect to baseline')\n",
    "plt.savefig('plots/all_ohda_rats_beta.svg')"
   ]
  },
  {
   "cell_type": "code",
   "execution_count": null,
   "metadata": {},
   "outputs": [],
   "source": [
    "for c in ['CT', 'ST', 'OFT']:\n",
    "    for rat in dm.Rat.select():\n",
    "        r = rat.full_label\n",
    "        imgname = '%s_%s' % (c, r)\n",
    "        # rdplot.plot_relative_beta_one_rat_one_condition(r, c, img_filename='plots/relative_beta_%s.png' % imgname)\n",
    "        # rdplot.plot_beta_one_rat_one_condition(r, c, img_filename='plots/absolute_beta_%s.png' % imgname)\n",
    "        # rdplot.plot_beta_one_rat_one_condition(r, c, img_filename='plots/no_oof/absolute_beta_%s.png' % imgname, remove_oof=True)\n",
    "    "
   ]
  },
  {
   "cell_type": "code",
   "execution_count": null,
   "metadata": {},
   "outputs": [],
   "source": [
    "for c in ['CT', 'ST', 'OFT']:\n",
    "    for rat in dm.Rat.select():\n",
    "        r = rat.full_label\n",
    "        imgname = '%s_%s' % (c, r)\n",
    "        # rdplot.plot_change_in_absolute_beta(r, c, img_filename='plots/no_oof/change_absolute_beta_%s.png' % imgname, remove_oof=True)\n",
    "        # rdplot.plot_change_in_absolute_beta(r, c, img_filename='plots/change_absolute_beta_%s.png' % imgname)\n",
    "        # rdplot.plot_change_in_relative_beta(r, c, img_filename='plots/change_relative_beta_%s.png' % imgname)"
   ]
  }
 ],
 "metadata": {
  "interpreter": {
   "hash": "71ecfc0ae2bb458425d39bf321c634e8cafd0685753a20a4aa768ea01a8df2c2"
  },
  "kernelspec": {
   "display_name": "Python 3.9.5 ('venv': venv)",
   "language": "python",
   "name": "python3"
  },
  "language_info": {
   "codemirror_mode": {
    "name": "ipython",
    "version": 3
   },
   "file_extension": ".py",
   "mimetype": "text/x-python",
   "name": "python",
   "nbconvert_exporter": "python",
   "pygments_lexer": "ipython3",
   "version": "3.9.5"
  }
 },
 "nbformat": 4,
 "nbformat_minor": 2
}
