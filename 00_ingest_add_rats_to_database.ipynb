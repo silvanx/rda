{
 "cells": [
  {
   "cell_type": "code",
   "execution_count": null,
   "metadata": {},
   "outputs": [],
   "source": [
    "import ratdata.ingest as ingest\n",
    "import ratdata.process as process\n",
    "import ratdata.data_manager as dm\n",
    "import datetime"
   ]
  },
  {
   "cell_type": "code",
   "execution_count": null,
   "metadata": {},
   "outputs": [],
   "source": [
    "dm.db_connect('rat_data.db')"
   ]
  },
  {
   "cell_type": "code",
   "execution_count": null,
   "metadata": {},
   "outputs": [],
   "source": [
    "dm.db_create_tables()"
   ]
  },
  {
   "cell_type": "code",
   "execution_count": null,
   "metadata": {},
   "outputs": [],
   "source": [
    "# 2020 autumn run\n",
    "res, created = dm.add_rat_to_database(date_start=datetime.date(2020, 11, 1),\n",
    "                                      date_end=datetime.date(2020, 12, 20),\n",
    "                                      label='rat04',\n",
    "                                      group='control',\n",
    "                                      full_label='rat A4')"
   ]
  },
  {
   "cell_type": "code",
   "execution_count": null,
   "metadata": {},
   "outputs": [],
   "source": [
    "# First run 2021\n",
    "res, created = dm.add_rat_to_database(date_start=datetime.date(2021, 4, 1),\n",
    "                                      date_end=datetime.date(2021, 7, 30),\n",
    "                                      label='rat1',\n",
    "                                      group='6OHDA',\n",
    "                                      full_label='rat B1')\n",
    "res, created = dm.add_rat_to_database(date_start=datetime.date(2021, 4, 1),\n",
    "                                      date_end=datetime.date(2021, 7, 30),\n",
    "                                      label='rat2',\n",
    "                                      group='6OHDA',\n",
    "                                      full_label='rat B2')\n",
    "res, created = dm.add_rat_to_database(date_start=datetime.date(2021, 4, 1),\n",
    "                                      date_end=datetime.date(2021, 7, 30),\n",
    "                                      label='rat3',\n",
    "                                      group='6OHDA',\n",
    "                                      full_label='rat B3')\n",
    "res, created = dm.add_rat_to_database(date_start=datetime.date(2021, 4, 1),\n",
    "                                      date_end=datetime.date(2021, 7, 30),\n",
    "                                      label='rat5',\n",
    "                                      group='control',\n",
    "                                      full_label='rat B5')"
   ]
  },
  {
   "cell_type": "code",
   "execution_count": null,
   "metadata": {},
   "outputs": [],
   "source": [
    "# Second run 2021\n",
    "res, created = dm.add_rat_to_database(date_start=datetime.date(2021, 10, 12),\n",
    "                                      date_end=datetime.date(2021, 12, 10),\n",
    "                                      label='rat4',\n",
    "                                      group='control',\n",
    "                                      full_label='rat C4')\n",
    "res, created = dm.add_rat_to_database(date_start=datetime.date(2021, 10, 12),\n",
    "                                      date_end=datetime.date(2021, 12, 10),\n",
    "                                      label='rat6',\n",
    "                                      group='6OHDA',\n",
    "                                      full_label='rat C6')\n",
    "\n"
   ]
  },
  {
   "cell_type": "code",
   "execution_count": null,
   "metadata": {},
   "outputs": [],
   "source": [
    "# First run 2022\n",
    "res, created = dm.add_rat_to_database(date_start=datetime.date(2022, 2, 1),\n",
    "                                      date_end=datetime.date(2022, 6, 1),\n",
    "                                      label='rat1',\n",
    "                                      group='6OHDA',\n",
    "                                      full_label='rat D1')\n",
    "res, created = dm.add_rat_to_database(date_start=datetime.date(2022, 2, 1),\n",
    "                                      date_end=datetime.date(2022, 6, 1),\n",
    "                                      label='rat2',\n",
    "                                      group='6OHDA',\n",
    "                                      full_label='rat D2')\n",
    "res, created = dm.add_rat_to_database(date_start=datetime.date(2022, 2, 1),\n",
    "                                      date_end=datetime.date(2022, 6, 1),\n",
    "                                      label='rat4',\n",
    "                                      group='6OHDA',\n",
    "                                      full_label='rat D4')"
   ]
  }
 ],
 "metadata": {
  "interpreter": {
   "hash": "75aabafc8459505f3d11f3bf65d7703e8f22251d44e64c91c4dfa232af0c99ec"
  },
  "kernelspec": {
   "display_name": "Python 3.9.5 64-bit ('venv': venv)",
   "language": "python",
   "name": "python3"
  },
  "language_info": {
   "codemirror_mode": {
    "name": "ipython",
    "version": 3
   },
   "file_extension": ".py",
   "mimetype": "text/x-python",
   "name": "python",
   "nbconvert_exporter": "python",
   "pygments_lexer": "ipython3",
   "version": "3.9.5"
  }
 },
 "nbformat": 4,
 "nbformat_minor": 2
}
