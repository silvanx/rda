{
 "cells": [
  {
   "cell_type": "code",
   "execution_count": 1,
   "metadata": {},
   "outputs": [],
   "source": [
    "from ratdata import data_manager as dm, process, ingest\n",
    "from pathlib import Path\n",
    "import numpy as np"
   ]
  },
  {
   "cell_type": "code",
   "execution_count": 2,
   "metadata": {},
   "outputs": [],
   "source": [
    "dm.db_connect('rat_data.db')\n",
    "outfilename = 'data/teed.csv'"
   ]
  },
  {
   "cell_type": "code",
   "execution_count": 3,
   "metadata": {},
   "outputs": [],
   "source": [
    "# Get recording files from the database\n",
    "open_loop_files_query = dm.RecordingFile.select().join(dm.StimSettings).where((dm.StimSettings.stim_type == 'continuous'))\n",
    "on_off_files_query = dm.RecordingFile.select().join(dm.StimSettings).where((dm.StimSettings.stim_type == 'on-off'))\n",
    "random_files_query = dm.RecordingFile.select().join(dm.StimSettings).where((dm.StimSettings.stim_type == 'random'))"
   ]
  },
  {
   "cell_type": "code",
   "execution_count": null,
   "metadata": {},
   "outputs": [],
   "source": [
    "# Calculate TEED for each file with continuous stimulation\n",
    "with open(outfilename, 'w') as outfile:\n",
    "    for file in open_loop_files_query:\n",
    "        amplitude = dm.StimSettings.get(dm.StimSettings.recording_file == file).max_amplitude\n",
    "        teed = process.compute_teed_continuous_stim(amplitude, pulse_width=80, stim_frequency=128.87, impedance=1)\n",
    "        line = '%s, %f' % (file.filename, teed) \n",
    "        print(line)\n",
    "        outfile.write(line + '\\n')\n",
    "    "
   ]
  },
  {
   "cell_type": "code",
   "execution_count": null,
   "metadata": {},
   "outputs": [],
   "source": [
    "# Calculate TEED for each file with ON/OFF stim\n",
    "pulse_width = 80\n",
    "f_stimulation = 130\n",
    "with open(outfilename, 'a') as outfile:\n",
    "    for file in on_off_files_query:\n",
    "        amplitude = dm.StimSettings.get(dm.StimSettings.recording_file == file).max_amplitude\n",
    "        recording = ingest.read_mce_matlab_file(str(Path(file.dirname) / file.filename))\n",
    "        tt = np.linspace(0, recording.electrode_data.shape[1] * recording.dt, recording.electrode_data.shape[1])\n",
    "        amplitude_data = process.generate_amplitude_from_stim_periods(recording, amplitude)\n",
    "        teed = process.compute_teed_from_amplitude_recording(amplitude_data, tt, pulse_width, f_stimulation, 1)\n",
    "        line = '%s, %f' % (file.filename, teed)\n",
    "        print(line)\n",
    "        outfile.write(line + '\\n')\n",
    "    "
   ]
  },
  {
   "cell_type": "code",
   "execution_count": null,
   "metadata": {},
   "outputs": [],
   "source": [
    "# Calculate TEED for each file with random stim\n",
    "pulse_width = 80\n",
    "f_stimulation = 130\n",
    "with open(outfilename, 'a') as outfile:\n",
    "    for file in random_files_query:\n",
    "        amplitude = dm.StimSettings.get(dm.StimSettings.recording_file == file).max_amplitude\n",
    "        recording = ingest.read_mce_matlab_file(str(Path(file.dirname) / file.filename))\n",
    "        tt = np.linspace(0, recording.electrode_data.shape[1] * recording.dt, recording.electrode_data.shape[1])\n",
    "        amplitude_data = process.generate_amplitude_from_stim_periods(recording, amplitude)\n",
    "        teed = process.compute_teed_from_amplitude_recording(amplitude_data, tt, pulse_width, f_stimulation, 1)\n",
    "        line = '%s, %f' % (file.filename, teed) \n",
    "        print(line)\n",
    "        outfile.write(line + '\\n')"
   ]
  },
  {
   "cell_type": "code",
   "execution_count": null,
   "metadata": {},
   "outputs": [],
   "source": [
    "with open('data/teed.csv', 'r') as f:\n",
    "    with open('data/teed_full.csv', 'w') as outfile:\n",
    "        for line in f:\n",
    "            line = line.strip(' \\r\\t\\n')\n",
    "            filename, teed = line.split(',')\n",
    "            record = dm.RecordingFile.select().join(dm.Rat).where(dm.RecordingFile.filename == filename).get()\n",
    "            stim_settings = dm.StimSettings.select().join(dm.RecordingFile).where(dm.RecordingFile.filename == filename).get()\n",
    "            outline = '%s, %s, %s, %s, %s, %s, %s' % (filename, record.condition, record.rat.label, record.rat.group,\n",
    "                                                    stim_settings.stim_type, stim_settings.max_amplitude, teed)\n",
    "            print(outline)\n",
    "            outfile.write(outline + '\\n')"
   ]
  }
 ],
 "metadata": {
  "interpreter": {
   "hash": "75aabafc8459505f3d11f3bf65d7703e8f22251d44e64c91c4dfa232af0c99ec"
  },
  "kernelspec": {
   "display_name": "Python 3.9.5 64-bit ('venv': venv)",
   "language": "python",
   "name": "python3"
  },
  "language_info": {
   "codemirror_mode": {
    "name": "ipython",
    "version": 3
   },
   "file_extension": ".py",
   "mimetype": "text/x-python",
   "name": "python",
   "nbconvert_exporter": "python",
   "pygments_lexer": "ipython3",
   "version": "3.9.5"
  },
  "orig_nbformat": 4
 },
 "nbformat": 4,
 "nbformat_minor": 2
}
