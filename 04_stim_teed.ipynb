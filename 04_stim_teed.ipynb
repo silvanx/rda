{
 "cells": [
  {
   "cell_type": "code",
   "execution_count": null,
   "metadata": {},
   "outputs": [],
   "source": [
    "from ratdata import data_manager as dm, process, ingest\n",
    "from pathlib import Path\n",
    "import numpy as np"
   ]
  },
  {
   "cell_type": "code",
   "execution_count": null,
   "metadata": {},
   "outputs": [],
   "source": [
    "dm.db_connect('rat_data.db')\n",
    "outfilename = 'data/teed.csv'"
   ]
  },
  {
   "cell_type": "code",
   "execution_count": null,
   "metadata": {},
   "outputs": [],
   "source": [
    "# Get recording files from the database\n",
    "open_loop_files_query = dm.RecordingFile.select().join(dm.StimSettings).where((dm.StimSettings.stim_type == 'continuous'))\n",
    "on_off_files_query = dm.RecordingFile.select().join(dm.StimSettings).where((dm.StimSettings.stim_type == 'on-off'))\n",
    "random_files_query = dm.RecordingFile.select().join(dm.StimSettings).where((dm.StimSettings.stim_type == 'random'))"
   ]
  },
  {
   "cell_type": "code",
   "execution_count": null,
   "metadata": {},
   "outputs": [],
   "source": [
    "# Calculate TEED for each file with continuous stimulation\n",
    "with open(outfilename, 'w') as outfile:\n",
    "    for file in open_loop_files_query:\n",
    "        amplitude = dm.StimSettings.get(dm.StimSettings.recording_file == file).max_amplitude\n",
    "        teed = process.compute_teed_continuous_stim(amplitude, pulse_width=80, stim_frequency=130, impedance=1)\n",
    "        line = '%s, %f' % (file.filename, teed) \n",
    "        print(line)\n",
    "        outfile.write(line + '\\n')\n",
    "    "
   ]
  },
  {
   "cell_type": "code",
   "execution_count": null,
   "metadata": {},
   "outputs": [],
   "source": [
    "# Calculate TEED for each file with ON/OFF stim\n",
    "pulse_width = 80\n",
    "f_stimulation = 130\n",
    "with open(outfilename, 'a') as outfile:\n",
    "    for file in on_off_files_query:\n",
    "        amplitude = dm.StimSettings.get(dm.StimSettings.recording_file == file).max_amplitude\n",
    "        recording = ingest.read_mce_matlab_file(str(Path(file.dirname) / file.filename))\n",
    "        amplitude_data = process.generate_amplitude_from_stim_periods(recording, amplitude)\n",
    "        if dm.is_recording_sliced(file.filename):\n",
    "            fs = int(1 / recording.dt)\n",
    "            slice = file.slice.get()\n",
    "            amplitude_data, tt = process.trim_recording(amplitude_data, fs, slice.start, slice.length)\n",
    "        else:\n",
    "            tt = np.linspace(0, recording.electrode_data.shape[1] * recording.dt, recording.electrode_data.shape[1])\n",
    "        teed = process.compute_teed_from_amplitude_recording(amplitude_data, tt, pulse_width, f_stimulation, 1)\n",
    "        line = '%s, %f' % (file.filename, teed)\n",
    "        print(line)\n",
    "        outfile.write(line + '\\n')\n",
    "    "
   ]
  },
  {
   "cell_type": "code",
   "execution_count": null,
   "metadata": {},
   "outputs": [],
   "source": [
    "# Calculate TEED for each file with random stim\n",
    "pulse_width = 80\n",
    "f_stimulation = 130\n",
    "with open(outfilename, 'a') as outfile:\n",
    "    for file in random_files_query:\n",
    "        amplitude = dm.StimSettings.get(dm.StimSettings.recording_file == file).max_amplitude\n",
    "        recording = ingest.read_mce_matlab_file(str(Path(file.dirname) / file.filename))\n",
    "        amplitude_data = process.generate_amplitude_from_stim_periods(recording, amplitude)\n",
    "        if dm.is_recording_rejected(file.filename):\n",
    "            fs = int(1 / recording.dt)\n",
    "            slice = file.slice.get()\n",
    "            amplitude_data, tt = process.trim_recording(amplitude_data, fs, slice.start, slice.length)\n",
    "        else:\n",
    "            tt = np.linspace(0, recording.electrode_data.shape[1] * recording.dt, recording.electrode_data.shape[1])\n",
    "        teed = process.compute_teed_from_amplitude_recording(amplitude_data, tt, pulse_width, f_stimulation, 1)\n",
    "        line = '%s, %f' % (file.filename, teed) \n",
    "        print(line)\n",
    "        outfile.write(line + '\\n')"
   ]
  },
  {
   "cell_type": "code",
   "execution_count": null,
   "metadata": {},
   "outputs": [],
   "source": [
    "pulse_width = 80\n",
    "f_stimulation = 130\n",
    "gui_datadir = Path('data/gui_recordings')\n",
    "\n",
    "with open(outfilename, 'a') as outfile:\n",
    "    for f in gui_datadir.iterdir():\n",
    "        f_query = dm.GuiAmplitude.select().where(dm.GuiAmplitude.file == f.name)\n",
    "        if f_query.count() == 1:\n",
    "            rfile = f_query.get()\n",
    "            stim = dm.StimSettings.select().join(dm.RecordingFile).where(dm.StimSettings.recording_file == rfile.recording).get()\n",
    "            amplitude = stim.max_amplitude\n",
    "            stim_data = ingest.read_stim_amplitude_from_gui_recording(gui_datadir / rfile.file, amplitude)\n",
    "            tt = np.linspace(0, len(stim_data) / 500, len(stim_data))\n",
    "            teed = process.compute_teed_from_amplitude_recording(stim_data, tt, pulse_width, f_stimulation, 1)\n",
    "            line = '%s, %f' % (rfile.recording.filename, teed) \n",
    "            print(line)\n",
    "            outfile.write(line + '\\n')"
   ]
  },
  {
   "cell_type": "code",
   "execution_count": null,
   "metadata": {},
   "outputs": [],
   "source": [
    "with open('data/teed.csv', 'r') as f:\n",
    "    with open('data/teed_full.csv', 'w') as outfile:\n",
    "        for line in f:\n",
    "            line = line.strip(' \\r\\t\\n')\n",
    "            filename, teed = line.split(',')\n",
    "            record = dm.RecordingFile.select().join(dm.Rat).where(dm.RecordingFile.filename == filename).get()\n",
    "            stim_settings = dm.StimSettings.select().join(dm.RecordingFile).where(dm.RecordingFile.filename == filename).get()\n",
    "            outline = '%s, %s, %s, %s, %s, %s, %s' % (filename, record.condition, record.rat.full_label, record.rat.group,\n",
    "                                                    stim_settings.stim_type, stim_settings.max_amplitude, teed)\n",
    "            print(outline)\n",
    "            outfile.write(outline + '\\n')"
   ]
  },
  {
   "cell_type": "code",
   "execution_count": null,
   "metadata": {},
   "outputs": [],
   "source": [
    "import pandas as pd\n",
    "import seaborn as sns\n",
    "import matplotlib.pyplot as plt"
   ]
  },
  {
   "cell_type": "code",
   "execution_count": null,
   "metadata": {},
   "outputs": [],
   "source": [
    "df = pd.read_csv('data/teed_full.csv', sep=',')\n",
    "\n",
    "df.columns = ['filename', 'condition', 'rat', 'rat_group', 'stim_type', 'max_amplitude', 'power']\n",
    "df = df.explode('power')\n",
    "df['power'] = df['power'].astype('float') / 1e6"
   ]
  },
  {
   "cell_type": "code",
   "execution_count": null,
   "metadata": {},
   "outputs": [],
   "source": [
    "plt.figure(figsize=(12, 6))\n",
    "sns.boxplot(x='stim_type', y='power', data=df, palette='Dark2', boxprops=dict(alpha=.8))\n",
    "sns.swarmplot(x='stim_type', y='power', data=df, s=4, palette='Dark2')\n",
    "plt.xlabel('Stimulation type')\n",
    "plt.ylabel('TEED in 1s [pW/$\\Omega$]')\n",
    "plt.title('Average energy delivered in 1s of stimulation')\n",
    "plt.savefig('plots/teed.png', bbox_inches='tight', facecolor='white')"
   ]
  },
  {
   "cell_type": "code",
   "execution_count": null,
   "metadata": {},
   "outputs": [],
   "source": []
  }
 ],
 "metadata": {
  "interpreter": {
   "hash": "71ecfc0ae2bb458425d39bf321c634e8cafd0685753a20a4aa768ea01a8df2c2"
  },
  "kernelspec": {
   "display_name": "Python 3.9.5 ('venv': venv)",
   "language": "python",
   "name": "python3"
  },
  "language_info": {
   "codemirror_mode": {
    "name": "ipython",
    "version": 3
   },
   "file_extension": ".py",
   "mimetype": "text/x-python",
   "name": "python",
   "nbconvert_exporter": "python",
   "pygments_lexer": "ipython3",
   "version": "3.9.5"
  }
 },
 "nbformat": 4,
 "nbformat_minor": 2
}
