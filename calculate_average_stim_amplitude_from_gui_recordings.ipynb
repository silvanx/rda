{
 "cells": [
  {
   "cell_type": "code",
   "execution_count": null,
   "metadata": {},
   "outputs": [],
   "source": [
    "import pathlib\n",
    "from ratdata import ingest, process\n",
    "import numpy as np\n",
    "import re"
   ]
  },
  {
   "cell_type": "code",
   "execution_count": null,
   "metadata": {},
   "outputs": [],
   "source": [
    "datadir_gui = pathlib.Path('data/gui_recordings/')\n",
    "amplitude_files = [f for f in datadir_gui.iterdir() if re.match('.*-amplitude rat[0-9].txt$', f.name) ]"
   ]
  },
  {
   "cell_type": "code",
   "execution_count": null,
   "metadata": {},
   "outputs": [],
   "source": [
    "infostring = 'Rat 1, files 6-9, 100 uA'\n",
    "print(infostring)\n",
    "rat1_mean = 0\n",
    "rat1_p10_mean = 0\n",
    "rat1_p20_mean = 0\n",
    "rat1_all_amplitudes = []\n",
    "for f in amplitude_files[5:9]:\n",
    "    data = ingest.read_stim_amplitude_from_gui_recording(f, 100)\n",
    "    rat1_all_amplitudes = np.append(rat1_all_amplitudes, data)\n",
    "    mean_amplitude = np.mean(data)\n",
    "    p10 = np.percentile(data, 10)\n",
    "    p20 = np.percentile(data, 20)\n",
    "    rat1_mean += mean_amplitude / 4\n",
    "    rat1_p10_mean += p10 / 4\n",
    "    rat1_p20_mean += p20 / 4\n",
    "    print('%s: %.2f uA, p10: %.2f, p20: %.2f' % (f.name, mean_amplitude, p10, p20))\n",
    "print('Rat 1 mean amplitude: %.2f uA, 10th percentile: %.2f, 20th percentile: %.2f' % (rat1_mean, rat1_p10_mean, rat1_p20_mean))\n",
    "p10_all = np.percentile(rat1_all_amplitudes, 10)\n",
    "p20_all = np.percentile(rat1_all_amplitudes, 20)\n",
    "print('Percentiles from all recordings. P10: %.2f, P20: %.2f' % (p10_all, p20_all))"
   ]
  },
  {
   "cell_type": "code",
   "execution_count": null,
   "metadata": {},
   "outputs": [],
   "source": [
    "infostring = 'Rat 2, files 1-5, 40 uA'\n",
    "print(infostring)\n",
    "rat2_mean = 0\n",
    "rat2_p10_mean = 0\n",
    "rat2_p20_mean = 0\n",
    "rat2_all_amplitudes = []\n",
    "for f in amplitude_files[0:5]:\n",
    "    data = ingest.read_stim_amplitude_from_gui_recording(f, 40)\n",
    "    rat2_all_amplitudes = np.append(rat2_all_amplitudes, data)\n",
    "    mean_amplitude = np.mean(data)\n",
    "    p10 = np.percentile(data, 10)\n",
    "    p20 = np.percentile(data, 20)\n",
    "    rat2_mean += mean_amplitude / 5\n",
    "    rat2_p10_mean += p10 / 5\n",
    "    rat2_p20_mean += p20 / 5\n",
    "    print('%s: %.2f uA, p10: %.2f, p20: %.2f' % (f.name, mean_amplitude, p10, p20))\n",
    "print('Rat 2 mean amplitude: %.2f uA, 10th percentile: %.2f, 20th percentile: %.2f' % (rat2_mean, rat2_p10_mean, rat2_p20_mean))\n",
    "rat2_p10_all = np.percentile(rat2_all_amplitudes, 10)\n",
    "rat2_p20_all = np.percentile(rat2_all_amplitudes, 20)\n",
    "print('Percentiles from all recordings. P10: %.2f, P20: %.2f' % (rat2_p10_all, rat2_p20_all))"
   ]
  },
  {
   "cell_type": "code",
   "execution_count": null,
   "metadata": {},
   "outputs": [],
   "source": [
    "import matplotlib.pyplot as plt"
   ]
  },
  {
   "cell_type": "code",
   "execution_count": null,
   "metadata": {},
   "outputs": [],
   "source": [
    "plot_data = ingest.read_stim_amplitude_from_gui_recording(amplitude_files[0], 40)\n",
    "p10 = np.percentile(plot_data, 10)\n",
    "p20 = np.percentile(plot_data, 20)"
   ]
  },
  {
   "cell_type": "code",
   "execution_count": null,
   "metadata": {},
   "outputs": [],
   "source": [
    "plt.figure(figsize=(20, 10), dpi=100)\n",
    "tstart = 5000\n",
    "tstop = 7000\n",
    "ttn = tstop-tstart\n",
    "plt.plot(np.linspace(tstart / 200, tstop / 200, ttn), plot_data[tstart:tstop])\n",
    "plt.xlabel('Time [s]')\n",
    "plt.ylabel('Amplitude [uA]')\n",
    "plt.axhline(np.mean(plot_data), linestyle='-', color='k')\n",
    "plt.axhline(p20, linestyle='--', color='k')\n",
    "plt.axhline(p10, linestyle=':', color='k')\n",
    "plt.legend(['rat2 stim amplitude [uA]', 'mean amplitude', '20th percentile', '10th percentile'])"
   ]
  },
  {
   "cell_type": "code",
   "execution_count": null,
   "metadata": {},
   "outputs": [],
   "source": [
    "plt.figure(figsize=(20, 10), dpi=100)\n",
    "tstart = 15000\n",
    "tstop = 17000\n",
    "ttn = tstop-tstart\n",
    "plt.plot(np.linspace(tstart / 200, tstop / 200, ttn), plot_data[tstart:tstop])\n",
    "plt.xlabel('Time [s]')\n",
    "plt.ylabel('Amplitude [uA]')\n",
    "plt.axhline(np.mean(plot_data), linestyle='-', color='k')\n",
    "plt.axhline(p20, linestyle='--', color='k')\n",
    "plt.axhline(p10, linestyle=':', color='k')\n",
    "plt.legend(['rat2 stim amplitude [uA]', 'mean amplitude', '20th percentile', '10th percentile'])"
   ]
  },
  {
   "cell_type": "code",
   "execution_count": null,
   "metadata": {},
   "outputs": [],
   "source": [
    "plot_data_2 = ingest.read_stim_amplitude_from_gui_recording(amplitude_files[8], 100)\n",
    "p10_2 = np.percentile(plot_data_2, 10)\n",
    "p20_2 = np.percentile(plot_data_2, 20)"
   ]
  },
  {
   "cell_type": "code",
   "execution_count": null,
   "metadata": {},
   "outputs": [],
   "source": [
    "plt.figure(figsize=(20, 10), dpi=100)\n",
    "tstart = 5000\n",
    "tstop = 7000\n",
    "ttn = tstop-tstart\n",
    "plt.plot(np.linspace(tstart / 200, tstop / 200, ttn), plot_data_2[tstart:tstop])\n",
    "plt.xlabel('Time [s]')\n",
    "plt.ylabel('Amplitude [uA]')\n",
    "plt.axhline(np.mean(plot_data_2), linestyle='-', color='k')\n",
    "plt.axhline(p20_2, linestyle='--', color='k')\n",
    "plt.axhline(p10_2, linestyle=':', color='k')\n",
    "plt.legend(['rat1 stim amplitude [uA]', 'mean amplitude', '20th percentile', '10th percentile'])"
   ]
  },
  {
   "cell_type": "code",
   "execution_count": null,
   "metadata": {},
   "outputs": [],
   "source": [
    "plt.figure(figsize=(10, 2), dpi=100)\n",
    "tstart = 10000\n",
    "tstop = 11000\n",
    "ttn = tstop-tstart\n",
    "plt.plot(np.linspace(tstart / 200, tstop / 200, ttn), plot_data_2[tstart:tstop])\n",
    "plt.xlabel('Time [s]')\n",
    "plt.ylabel('Amplitude [uA]')\n",
    "plt.axhline(np.mean(plot_data_2), linestyle='-', color='k')\n",
    "plt.axhline(p20_2, linestyle='--', color='k')\n",
    "# plt.axhline(p10_2, linestyle=':', color='k')\n",
    "plt.legend(['rat1 stim amplitude [uA]', 'mean amplitude', '20th percentile', '10th percentile'])\n",
    "plt.savefig('plots/proportional_stim.svg')"
   ]
  }
 ],
 "metadata": {
  "kernelspec": {
   "display_name": "Python 3.9.5 ('venv': venv)",
   "language": "python",
   "name": "python3"
  },
  "language_info": {
   "codemirror_mode": {
    "name": "ipython",
    "version": 3
   },
   "file_extension": ".py",
   "mimetype": "text/x-python",
   "name": "python",
   "nbconvert_exporter": "python",
   "pygments_lexer": "ipython3",
   "version": "3.9.5"
  },
  "vscode": {
   "interpreter": {
    "hash": "71ecfc0ae2bb458425d39bf321c634e8cafd0685753a20a4aa768ea01a8df2c2"
   }
  }
 },
 "nbformat": 4,
 "nbformat_minor": 2
}
