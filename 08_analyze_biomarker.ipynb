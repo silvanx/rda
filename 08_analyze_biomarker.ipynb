{
 "cells": [
  {
   "cell_type": "code",
   "execution_count": null,
   "metadata": {},
   "outputs": [],
   "source": [
    "from ratdata import data_manager as dm, process, plot as rdplot\n",
    "import matplotlib.pyplot as plt\n",
    "import numpy as np"
   ]
  },
  {
   "cell_type": "code",
   "execution_count": null,
   "metadata": {},
   "outputs": [],
   "source": [
    "dm.db_connect('rat_data.db')\n",
    "rec = dm.RecordingFile.select().where(dm.RecordingFile.filename=='').get()"
   ]
  },
  {
   "cell_type": "code",
   "execution_count": null,
   "metadata": {},
   "outputs": [],
   "source": [
    "data, dt, time = dm.get_electrode_data_from_recording(rec, select_slice=True)\n",
    "mean_data = np.mean(data, axis=0)\n",
    "fs = int(1/dt)\n",
    "title = 'Biomarker for %s' % rec.filename\n",
    "rdplot.plot_biomarker_steps(mean_data, fs, time=time, plot_title=title)"
   ]
  },
  {
   "cell_type": "code",
   "execution_count": null,
   "metadata": {},
   "outputs": [],
   "source": [
    "s, env1, env2 = process.beta_envelope(mean_data, fs, 300)\n",
    "bursts1 = process.beta_bursts(env1, 0.2)\n",
    "bursts2 = process.beta_bursts(env2, 0.2)\n",
    "durations1 = [(e[1] - e[0]) / 300 for e in bursts1]\n",
    "durations2 = [(e[1] - e[0]) / 300 for e in bursts2]\n",
    "plt.figure(figsize=(20, 9))\n",
    "ax1 = plt.subplot2grid((2, 2), (0, 0), colspan=2)\n",
    "ax1.plot(s)\n",
    "ax1.plot(env1)\n",
    "ax1.plot(env2)\n",
    "ax2 = plt.subplot2grid((2, 2), (1, 0))\n",
    "ax2.hist(durations1, bins=20)\n",
    "ax3 = plt.subplot2grid((2, 2), (1, 1))\n",
    "ax3.hist(durations1, bins=20)"
   ]
  }
 ],
 "metadata": {
  "kernelspec": {
   "display_name": "Python 3.9.5 ('venv': venv)",
   "language": "python",
   "name": "python3"
  },
  "language_info": {
   "codemirror_mode": {
    "name": "ipython",
    "version": 3
   },
   "file_extension": ".py",
   "mimetype": "text/x-python",
   "name": "python",
   "nbconvert_exporter": "python",
   "pygments_lexer": "ipython3",
   "version": "3.9.5"
  },
  "vscode": {
   "interpreter": {
    "hash": "71ecfc0ae2bb458425d39bf321c634e8cafd0685753a20a4aa768ea01a8df2c2"
   }
  }
 },
 "nbformat": 4,
 "nbformat_minor": 2
}
