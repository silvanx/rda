{
 "cells": [
  {
   "cell_type": "code",
   "execution_count": null,
   "metadata": {},
   "outputs": [],
   "source": [
    "from ratdata import data_manager as dm, process, ingest\n",
    "import numpy as np\n",
    "import matplotlib.pyplot as plt\n",
    "from pathlib import Path\n",
    "import scipy.signal as signal"
   ]
  },
  {
   "cell_type": "code",
   "execution_count": null,
   "metadata": {},
   "outputs": [],
   "source": [
    "dm.db_connect('rat_data.db')"
   ]
  },
  {
   "cell_type": "code",
   "execution_count": null,
   "metadata": {},
   "outputs": [],
   "source": [
    "beta_low = 11\n",
    "beta_high = 30\n",
    "\n",
    "rat_peaks = dict()\n",
    "\n",
    "for r in dm.RecordingFile.select().where(dm.RecordingFile.condition == 'baseline'):\n",
    "    filename = Path(r.dirname) / r.filename\n",
    "    rec = ingest.read_mce_matlab_file(filename)\n",
    "    if dm.is_recording_rejected(filename.name):\n",
    "        continue\n",
    "\n",
    "    fs = int(1/rec.dt)\n",
    "    \n",
    "    x = np.mean(rec.electrode_data, 0)\n",
    "    if dm.is_recording_sliced:\n",
    "        slice = dm.RecordingSlice.select().join(dm.RecordingFile).where(dm.RecordingFile.filename == filename.name).get()\n",
    "        start = int(slice.start * fs)\n",
    "        end = int((slice.start + slice.length) * fs)\n",
    "        x = x[start:end]\n",
    "\n",
    "    f, psd = signal.welch(x, fs, nperseg=fs)\n",
    "    m, b = process.fit_oof(f, psd, 2, 100)\n",
    "    f[0] = 1e-20\n",
    "    oof = f ** m * (np.e ** b)\n",
    "    detrended = psd - oof\n",
    "    idx = np.logical_and(f >= 10, f <= 35)\n",
    "    peaks = process.find_peaks(f, detrended, beta_low, beta_high)\n",
    "    if rec.rat_label in rat_peaks:\n",
    "        rat_peaks[rec.rat_label].append(peaks[0])\n",
    "    else:\n",
    "        rat_peaks[rec.rat_label] = [peaks[0]]\n",
    "    plt.figure(figsize=(12, 6))\n",
    "    plt.plot(f[idx], detrended[idx])\n",
    "    plt.title(filename.stem)\n",
    "    if len(peaks) == 0:\n",
    "        print('No peaks: %s' % rec.filename)\n",
    "    else:\n",
    "        px, py, _ = peaks[0]\n",
    "        plt.plot(px, py, 'x')\n",
    "    plt.savefig('plots/peaks/%s_%s.png' % (rec.rat_label, filename.stem), facecolor='white', bbox_inches='tight')\n",
    "    plt.close()"
   ]
  },
  {
   "cell_type": "code",
   "execution_count": null,
   "metadata": {},
   "outputs": [],
   "source": [
    "%matplotlib inline\n",
    "c = plt.get_cmap('Dark2')\n",
    "control_rats = [r.label for r in dm.Rat.select().where(dm.Rat.group == 'control')]\n",
    "ohda_rats = [r.label for r in dm.Rat.select().where(dm.Rat.group == '6OHDA')]\n",
    "columns = 2\n",
    "rows = max([len(control_rats), len(ohda_rats)])\n",
    "\n",
    "fig, ax = plt.subplots(nrows=rows, ncols=columns, figsize=(12, 16))\n",
    "for i, rat in enumerate(ohda_rats):\n",
    "    ax[i, 0].set_title(rat)\n",
    "    ax[i, 0].set_xlim([11, 25])\n",
    "    ax[i, 0].set_ylim([-3e-5, 1.5e-4])\n",
    "    xx, yy, pp = zip(*rat_peaks[rat])\n",
    "    ax[i, 0].scatter(xx, yy, s=10, color=c.colors[i])\n",
    "    ax[i, 0].axvline(np.mean(xx), color=c.colors[i], alpha=1)\n",
    "    ax[i, 0].fill_betweenx(ax[i, 0].get_ylim(), np.ones(2) * (np.mean(xx) - np.std(xx)), np.ones(2) * (np.mean(xx) + np.std(xx)),\n",
    "                           color=c.colors[i], alpha=0.2)\n",
    "    # ax[i, 0].axhline(np.mean(yy), color=c.colors[i], alpha=1)\n",
    "    # ax[i, 0].fill_between(ax[i, 0].get_xlim(), np.ones(2) * (np.mean(yy) - np.std(yy)), np.ones(2) * (np.mean(yy) + np.std(yy)),\n",
    "    #                       color=c.colors[i], alpha=0.2)\n",
    "\n",
    "for i, rat in enumerate(control_rats):\n",
    "    ax[i, 1].set_title(rat)\n",
    "    ax[i, 1].set_xlim([11, 25])\n",
    "    ax[i, 1].set_ylim([-3e-5, 1.5e-4])\n",
    "    xx, yy, pp = zip(*rat_peaks[rat])\n",
    "    ax[i, 1].scatter(xx, yy, s=10, color=c.colors[len(ohda_rats) + i])\n",
    "    ax[i, 1].axvline(np.mean(xx), color=c.colors[len(ohda_rats) + i], alpha=1)\n",
    "    ax[i, 1].fill_betweenx(ax[i, 1].get_ylim(), np.ones(2) * (np.mean(xx) - np.std(xx)), np.ones(2) * (np.mean(xx) + np.std(xx)),\n",
    "                           color=c.colors[len(ohda_rats) + i], alpha=0.2)\n",
    "    # ax[i, 1].axhline(np.mean(yy), color=c.colors[len(ohda_rats) + i], alpha=1)\n",
    "    # ax[i, 1].fill_between(ax[i, 1].get_xlim(), np.ones(2) * (np.mean(yy) - np.std(yy)), np.ones(2) * (np.mean(yy) + np.std(yy)),\n",
    "    #                       color=c.colors[len(ohda_rats) + i], alpha=0.2)\n",
    "\n",
    "ax[0, 0].annotate('6-OHDA rats', xy=(0, 0), va='center', ha='center', xycoords=ax[0, 0].title, xytext=(0.5, 2), fontsize=14)\n",
    "ax[0, 1].annotate('control rats', xy=(0, 0), va='center', ha='center', xycoords=ax[0, 1].title, xytext=(0.5, 2), fontsize=14)\n",
    "ax[3, 1].axis('off')\n",
    "fig.suptitle('Most prominent peak location and height', fontsize=14)\n",
    "fig.tight_layout()\n",
    "    \n"
   ]
  }
 ],
 "metadata": {
  "interpreter": {
   "hash": "75aabafc8459505f3d11f3bf65d7703e8f22251d44e64c91c4dfa232af0c99ec"
  },
  "kernelspec": {
   "display_name": "Python 3.9.5 ('venv': venv)",
   "language": "python",
   "name": "python3"
  },
  "language_info": {
   "codemirror_mode": {
    "name": "ipython",
    "version": 3
   },
   "file_extension": ".py",
   "mimetype": "text/x-python",
   "name": "python",
   "nbconvert_exporter": "python",
   "pygments_lexer": "ipython3",
   "version": "3.9.5"
  }
 },
 "nbformat": 4,
 "nbformat_minor": 2
}
