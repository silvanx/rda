{
 "cells": [
  {
   "cell_type": "code",
   "execution_count": null,
   "metadata": {},
   "outputs": [],
   "source": [
    "from ratdata import data_manager as dm, process, ingest\n",
    "import numpy as np\n",
    "import matplotlib.pyplot as plt\n",
    "from pathlib import Path\n",
    "import scipy.signal as signal"
   ]
  },
  {
   "cell_type": "code",
   "execution_count": null,
   "metadata": {},
   "outputs": [],
   "source": [
    "dm.db_connect('rat_data.db')"
   ]
  },
  {
   "cell_type": "code",
   "execution_count": null,
   "metadata": {},
   "outputs": [],
   "source": [
    "beta_low = 13\n",
    "beta_high = 30\n",
    "\n",
    "for r in dm.RecordingFile.select().where(dm.RecordingFile.condition == 'baseline'):\n",
    "    filename = Path(r.dirname) / r.filename\n",
    "    rec = ingest.read_mce_matlab_file(filename)\n",
    "    if dm.is_recording_rejected(filename.name):\n",
    "        continue\n",
    "\n",
    "    fs = int(1/rec.dt)\n",
    "    \n",
    "    x = np.mean(rec.electrode_data, 0)\n",
    "    if dm.is_recording_sliced:\n",
    "        slice = dm.RecordingSlice.select().join(dm.RecordingFile).where(dm.RecordingFile.filename == filename.name).get()\n",
    "        start = int(slice.start * fs)\n",
    "        end = int((slice.start + slice.length) * fs)\n",
    "        x = x[start:end]\n",
    "\n",
    "    f, psd = signal.welch(x, fs, nperseg=fs)\n",
    "    m, b = process.fit_oof(f, psd, 2, 100)\n",
    "    f[0] = 1e-20\n",
    "    oof = f ** m * (np.e ** b)\n",
    "    detrended = psd - oof\n",
    "    idx = np.logical_and(f >= 10, f <= 35)\n",
    "    peaks = process.find_peaks(f, detrended, beta_low, beta_high)\n",
    "    plt.figure(figsize=(12, 6))\n",
    "    plt.plot(f[idx], detrended[idx])\n",
    "    plt.title(filename.stem)\n",
    "    if len(peaks) == 0:\n",
    "        print('No peaks: %s' % rec.filename)\n",
    "    else:\n",
    "        px, py = peaks[0]\n",
    "        plt.plot(px, py, 'x')\n",
    "    plt.savefig('plots/peaks/%s_%s.png' % (rec.rat_label, filename.stem), facecolor='white', bbox_inches='tight')\n",
    "    plt.close()"
   ]
  },
  {
   "cell_type": "code",
   "execution_count": null,
   "metadata": {},
   "outputs": [],
   "source": []
  }
 ],
 "metadata": {
  "interpreter": {
   "hash": "75aabafc8459505f3d11f3bf65d7703e8f22251d44e64c91c4dfa232af0c99ec"
  },
  "kernelspec": {
   "display_name": "Python 3.9.5 ('venv': venv)",
   "language": "python",
   "name": "python3"
  },
  "language_info": {
   "codemirror_mode": {
    "name": "ipython",
    "version": 3
   },
   "file_extension": ".py",
   "mimetype": "text/x-python",
   "name": "python",
   "nbconvert_exporter": "python",
   "pygments_lexer": "ipython3",
   "version": "3.9.5"
  }
 },
 "nbformat": 4,
 "nbformat_minor": 2
}
