{
 "cells": [
  {
   "cell_type": "code",
   "execution_count": null,
   "metadata": {},
   "outputs": [],
   "source": [
    "from ratdata import data_manager as dm, process, ingest, plot\n",
    "import numpy as np\n",
    "import matplotlib.pyplot as plt\n",
    "from pathlib import Path\n",
    "import scipy.signal as signal\n",
    "import peewee"
   ]
  },
  {
   "cell_type": "code",
   "execution_count": null,
   "metadata": {},
   "outputs": [],
   "source": [
    "redo = False\n",
    "\n",
    "lines = []\n",
    "if redo:\n",
    "    for i, r in enumerate(dm.RecordingFile.select().where(dm.RecordingFile.condition == 'baseline').order_by(peewee.fn.Random())):\n",
    "        line = str.join('', (str(i), ': ', r.filename, '\\n'))\n",
    "        lines.append(line)\n",
    "        filename = Path(r.dirname) / r.filename\n",
    "        rec = ingest.read_mce_matlab_file(filename)\n",
    "        if dm.is_recording_rejected(filename.name):\n",
    "            continue\n",
    "\n",
    "        fs = int(1/rec.dt)\n",
    "        \n",
    "        x = np.mean(rec.electrode_data, 0)\n",
    "        if dm.is_recording_sliced(r.filename):\n",
    "            slice = dm.RecordingSlice.select().join(dm.RecordingFile).where(dm.RecordingFile.filename == filename.name).get()\n",
    "            start = int(slice.start * fs)\n",
    "            end = int((slice.start + slice.length) * fs)\n",
    "            x = x[start:end]\n",
    "            \n",
    "        f, psd = signal.welch(x, fs, nperseg=int(2*fs))\n",
    "        m, b = process.fit_oof(f, psd, 2, 100)\n",
    "        f[0] = 1e-20\n",
    "        oof = f ** m * (np.e ** b)\n",
    "        detrended = psd - oof\n",
    "        idx = np.logical_and(f >= 10, f <= 30)\n",
    "        plt.figure(figsize=(12, 6))\n",
    "        plt.plot(f[idx], detrended[idx])\n",
    "        plt.title('%03d' % i)\n",
    "        # plt.ylim([-6e-5, 9e-5])\n",
    "        plt.axhline(0, color='red')\n",
    "        ax = plt.gca()\n",
    "        ax.set_xticks(np.linspace(10, 30, 21), minor=False)\n",
    "        plt.xlim([10, 30])\n",
    "        plt.grid()\n",
    "        plt.savefig('plots/blinded_power_spectra/baseline_%03d.png' % (i), facecolor='white', bbox_inches='tight')\n",
    "        plt.close()\n",
    "\n",
    "    with open('plots/blinded_power_spectra/key.txt', 'w') as f:\n",
    "        f.writelines(lines)"
   ]
  }
 ],
 "metadata": {
  "kernelspec": {
   "display_name": "Python 3.9.5 ('venv': venv)",
   "language": "python",
   "name": "python3"
  },
  "language_info": {
   "name": "python",
   "version": "3.9.5"
  },
  "vscode": {
   "interpreter": {
    "hash": "71ecfc0ae2bb458425d39bf321c634e8cafd0685753a20a4aa768ea01a8df2c2"
   }
  }
 },
 "nbformat": 4,
 "nbformat_minor": 2
}
