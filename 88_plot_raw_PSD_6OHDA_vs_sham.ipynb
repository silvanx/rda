{
 "cells": [
  {
   "cell_type": "code",
   "execution_count": null,
   "metadata": {},
   "outputs": [],
   "source": [
    "from ratdata import data_manager as dm, process, ingest, plot as rdplot\n",
    "import numpy as np\n",
    "import matplotlib.pyplot as plt\n",
    "from pathlib import Path\n",
    "import scipy.signal as signal"
   ]
  },
  {
   "cell_type": "code",
   "execution_count": null,
   "metadata": {},
   "outputs": [],
   "source": [
    "dm.db_connect('rat_data.db')"
   ]
  },
  {
   "cell_type": "code",
   "execution_count": null,
   "metadata": {},
   "outputs": [],
   "source": [
    "id_ohda = 378\n",
    "id_sham = 152"
   ]
  },
  {
   "cell_type": "code",
   "execution_count": null,
   "metadata": {},
   "outputs": [],
   "source": [
    "def recording_length(recording_id):\n",
    "    r = dm.RecordingFile.select().where(dm.RecordingFile.file_id == recording_id).get()\n",
    "    if dm.is_recording_rejected(r.filename):\n",
    "        print(f'Choose a different recording than {r.filename}')\n",
    "        return None\n",
    "    recording_data = ingest.read_mce_matlab_file(Path(r.dirname) / r.filename)\n",
    "    if dm.is_recording_sliced(r.filename):\n",
    "        recording_length = r.slice.get().length\n",
    "        print(f'Selecting slice of length {recording_length} from {r.filename}')\n",
    "    else:\n",
    "        recording_length = recording_data.electrode_data.shape[-1] / 20000\n",
    "    return recording_length"
   ]
  },
  {
   "cell_type": "code",
   "execution_count": null,
   "metadata": {},
   "outputs": [],
   "source": [
    "min_recording_length = min([recording_length(id) for id in [id_ohda, id_sham]])"
   ]
  },
  {
   "cell_type": "code",
   "execution_count": null,
   "metadata": {},
   "outputs": [],
   "source": [
    "fontsize_ax = 22"
   ]
  },
  {
   "cell_type": "code",
   "execution_count": null,
   "metadata": {},
   "outputs": [],
   "source": [
    "plt.figure(figsize=(10, 10))\n",
    "ax = plt.gca()\n",
    "fs = 20000\n",
    "\n",
    "colors = [\n",
    "    rdplot.sham_ohda_palette['ohda'],\n",
    "    rdplot.sham_ohda_palette['sham']\n",
    "    ]\n",
    "for i, recording_id in enumerate([id_ohda, id_sham]):\n",
    "    r = dm.RecordingFile.select().where(dm.RecordingFile.file_id == recording_id).get()\n",
    "    recording_data = ingest.read_mce_matlab_file(Path(r.dirname) / r.filename)\n",
    "    electrode_data = recording_data.electrode_data.mean(0)\n",
    "    if dm.is_recording_sliced(r.filename):\n",
    "        start = int(r.slice.get().start * fs)\n",
    "        end = start + int(min_recording_length * fs)\n",
    "    else:\n",
    "        start = 0\n",
    "        end = int(min_recording_length * fs)\n",
    "    data_for_psd = electrode_data[start:end]\n",
    "    f, psd = signal.welch(data_for_psd, fs, nperseg=int(2*fs))\n",
    "    ax.tick_params(axis='both', which='major', labelsize=fontsize_ax)\n",
    "    ax.ticklabel_format(axis='y', style='sci', scilimits=(0, 0))\n",
    "    ax.yaxis.offsetText.set_fontsize(fontsize_ax)\n",
    "    ax.plot(f[4:200], psd[4:200], color=colors[i], linewidth=4)\n",
    "plt.legend(['6-OHDA', 'sham'], fontsize=fontsize_ax)\n",
    "\n",
    "plt.savefig('plots/6ohda_vs_sham.png', bbox_inches='tight')\n",
    "plt.savefig('plots/6ohda_vs_sham.svg', bbox_inches='tight')"
   ]
  }
 ],
 "metadata": {
  "kernelspec": {
   "display_name": "venv",
   "language": "python",
   "name": "python3"
  },
  "language_info": {
   "codemirror_mode": {
    "name": "ipython",
    "version": 3
   },
   "file_extension": ".py",
   "mimetype": "text/x-python",
   "name": "python",
   "nbconvert_exporter": "python",
   "pygments_lexer": "ipython3",
   "version": "3.9.5"
  }
 },
 "nbformat": 4,
 "nbformat_minor": 2
}
