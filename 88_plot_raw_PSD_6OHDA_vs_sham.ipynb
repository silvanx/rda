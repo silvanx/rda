{
 "cells": [
  {
   "cell_type": "code",
   "execution_count": null,
   "metadata": {},
   "outputs": [],
   "source": [
    "from ratdata import data_manager as dm, process, ingest, plot as rdplot\n",
    "import numpy as np\n",
    "import matplotlib.pyplot as plt\n",
    "from pathlib import Path\n",
    "import scipy.signal as signal\n",
    "import itertools"
   ]
  },
  {
   "cell_type": "code",
   "execution_count": null,
   "metadata": {},
   "outputs": [],
   "source": [
    "dm.db_connect('rat_data.db')"
   ]
  },
  {
   "cell_type": "code",
   "execution_count": null,
   "metadata": {},
   "outputs": [],
   "source": [
    "id_ohda = [378, 449]\n",
    "id_sham = [273]"
   ]
  },
  {
   "cell_type": "code",
   "execution_count": null,
   "metadata": {},
   "outputs": [],
   "source": [
    "def recording_length(recording_id):\n",
    "    r = dm.RecordingFile.select().where(dm.RecordingFile.file_id == recording_id).get()\n",
    "    if dm.is_recording_rejected(r.filename):\n",
    "        print(f'Choose a different recording than {r.filename}')\n",
    "        return None\n",
    "    recording_data = ingest.read_mce_matlab_file(Path(r.dirname) / r.filename)\n",
    "    if dm.is_recording_sliced(r.filename):\n",
    "        recording_length = r.slice.get().length\n",
    "        print(f'Selecting slice of length {recording_length} from {r.filename}')\n",
    "    else:\n",
    "        recording_length = recording_data.electrode_data.shape[-1] / 20000\n",
    "    return recording_length"
   ]
  },
  {
   "cell_type": "code",
   "execution_count": null,
   "metadata": {},
   "outputs": [],
   "source": [
    "min_recording_length = min(min([[recording_length(id) for id in l] for l in [id_ohda, id_sham]]))"
   ]
  },
  {
   "cell_type": "code",
   "execution_count": null,
   "metadata": {},
   "outputs": [],
   "source": [
    "fontsize_ax = 22"
   ]
  },
  {
   "cell_type": "code",
   "execution_count": null,
   "metadata": {},
   "outputs": [],
   "source": [
    "# plt.figure(figsize=(12, 10))\n",
    "# ax = plt.gca()\n",
    "# fs = 20000\n",
    "\n",
    "# colors = [\n",
    "#     rdplot.sham_ohda_palette['ohda'],\n",
    "#     rdplot.sham_ohda_palette['sham']\n",
    "#     ]\n",
    "# legend = []\n",
    "# plot_start = int(2 * min_recording_length)\n",
    "# plot_stop = int(100 * min_recording_length)\n",
    "# for i, recording_id in enumerate([id_ohda, id_sham]):\n",
    "#     r = dm.RecordingFile.select().where(dm.RecordingFile.file_id == recording_id).get()\n",
    "#     recording_data = ingest.read_mce_matlab_file(Path(r.dirname) / r.filename)\n",
    "#     electrode_data = recording_data.electrode_data.mean(0)\n",
    "#     legend.append(f'{r.rat.full_label} ({r.rat.group})')\n",
    "#     if dm.is_recording_sliced(r.filename):\n",
    "#         start = int(r.slice.get().start * fs)\n",
    "#         end = start + int(min_recording_length * fs)\n",
    "#     else:\n",
    "#         start = 0\n",
    "#         end = int(min_recording_length * fs)\n",
    "#     data_for_psd = electrode_data[start:end]\n",
    "#     f, psd = signal.welch(data_for_psd, fs, nperseg=len(data_for_psd))\n",
    "#     ax.tick_params(axis='both', which='major', labelsize=fontsize_ax)\n",
    "#     ax.ticklabel_format(axis='y', style='sci', scilimits=(0, 0))\n",
    "#     ax.yaxis.offsetText.set_fontsize(fontsize_ax)\n",
    "#     ax.plot(f[plot_start:plot_stop], psd[plot_start:plot_stop], color=colors[i], linewidth=3, alpha=0.8)\n",
    "#     ax.set_xlabel('Frequency [Hz]', fontsize=fontsize_ax)\n",
    "#     ax.set_ylabel('Power spectral density [mV$^2$/Hz]', fontsize=fontsize_ax)\n",
    "# ax.set_title(f'FFT PSD (segment length = {min_recording_length} s)', fontsize=fontsize_ax)\n",
    "# plt.legend(legend, fontsize=fontsize_ax)\n",
    "\n",
    "# plt.savefig('plots/6ohda_vs_sham.png', bbox_inches='tight')\n",
    "# plt.savefig('plots/6ohda_vs_sham.svg', bbox_inches='tight')"
   ]
  },
  {
   "cell_type": "code",
   "execution_count": null,
   "metadata": {},
   "outputs": [],
   "source": [
    "def plot_two_spectra_by_file_id(id1, id2, ax, colors, plot_start_n, plot_stop_n, fs, title, corner_label):\n",
    "    legend = []\n",
    "    for i, recording_id in enumerate([id1, id2]):\n",
    "        r = dm.RecordingFile.select().where(dm.RecordingFile.file_id == recording_id).get()\n",
    "        recording_data = ingest.read_mce_matlab_file(Path(r.dirname) / r.filename)\n",
    "        electrode_data = recording_data.electrode_data.mean(0)\n",
    "        if r.rat.group == 'control':\n",
    "            group = 'sham'\n",
    "        else:\n",
    "            group = '6-OHDA'\n",
    "        legend.append(f'{r.rat.full_label} ({group})')\n",
    "        if dm.is_recording_sliced(r.filename):\n",
    "            start = int(r.slice.get().start * fs)\n",
    "            end = start + int(min_recording_length * fs)\n",
    "        else:\n",
    "            start = 0\n",
    "            end = int(min_recording_length * fs)\n",
    "        data_for_psd = electrode_data[start:end]\n",
    "        f, psd = signal.welch(data_for_psd, fs, nperseg=(2*fs))\n",
    "        ax.tick_params(axis='both', which='major', labelsize=fontsize_ax)\n",
    "        ax.ticklabel_format(axis='y', style='sci', scilimits=(0, 0))\n",
    "        ax.yaxis.offsetText.set_fontsize(fontsize_ax)\n",
    "        ax.plot(f[plot_start_n:plot_stop_n], psd[plot_start_n:plot_stop_n], color=colors[i], linewidth=4, alpha=0.8)\n",
    "        ax.set_xlabel('Frequency [Hz]', fontsize=fontsize_ax)\n",
    "        ax.set_ylabel('Power spectral density [mV$^2$/Hz]', fontsize=fontsize_ax)\n",
    "        ax.set_title(f'{title}', fontsize=fontsize_ax)\n",
    "        ax.set_ylim([0, 2.0e-4])\n",
    "        ax.text(-20, 2.12e-4, corner_label, fontsize=2 * fontsize_ax)\n",
    "    ax.legend(legend, fontsize=fontsize_ax)"
   ]
  },
  {
   "cell_type": "code",
   "execution_count": null,
   "metadata": {},
   "outputs": [],
   "source": [
    "fig, axs = plt.subplots(1, 2, figsize=(24, 8))\n",
    "fs = 20000\n",
    "\n",
    "colors = [\n",
    "    rdplot.sham_ohda_palette['ohda'],\n",
    "    rdplot.sham_ohda_palette['sham']\n",
    "    ]\n",
    "plot_start = int(2 / 0.5)\n",
    "plot_stop = int(100 / 0.5)\n",
    "\n",
    "i = 0\n",
    "titles = ['Beta peak in 6-OHDA rat only', 'Beta peak in neither of the rats']\n",
    "plot_labels = ['A', 'B']\n",
    "for pair in itertools.product(id_ohda, id_sham):\n",
    "    ax = axs[i]\n",
    "    plot_two_spectra_by_file_id(pair[1], pair[0], ax, colors[::-1], plot_start, plot_stop, fs, titles[i], plot_labels[i])\n",
    "    i = i + 1\n",
    "\n",
    "plt.savefig('plots/6ohda_vs_sham_2_100_Hz.png', bbox_inches='tight')\n",
    "plt.savefig('plots/6ohda_vs_sham_2_100_Hz.svg', bbox_inches='tight')"
   ]
  }
 ],
 "metadata": {
  "kernelspec": {
   "display_name": "venv",
   "language": "python",
   "name": "python3"
  },
  "language_info": {
   "codemirror_mode": {
    "name": "ipython",
    "version": 3
   },
   "file_extension": ".py",
   "mimetype": "text/x-python",
   "name": "python",
   "nbconvert_exporter": "python",
   "pygments_lexer": "ipython3",
   "version": "3.9.5"
  }
 },
 "nbformat": 4,
 "nbformat_minor": 2
}
