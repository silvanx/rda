{
 "cells": [
  {
   "cell_type": "code",
   "execution_count": null,
   "metadata": {},
   "outputs": [],
   "source": [
    "from ratdata import data_manager as dm, plot as rdplot"
   ]
  },
  {
   "cell_type": "code",
   "execution_count": null,
   "metadata": {},
   "outputs": [],
   "source": [
    "dm.db_connect('rat_data.db')"
   ]
  },
  {
   "cell_type": "code",
   "execution_count": null,
   "metadata": {},
   "outputs": [],
   "source": [
    "for rat in ['rat1', 'rat2', 'rat3', 'rat4', 'rat5', 'rat6', 'rat04']:\n",
    "    rdplot.plot_baseline_across_time(rat, 'plots/baseline_relative_beta_%s.png' % rat)"
   ]
  },
  {
   "cell_type": "code",
   "execution_count": null,
   "metadata": {},
   "outputs": [],
   "source": [
    "recording_dates = dm.get_all_recording_dates_nostim()\n",
    "for day in recording_dates:\n",
    "    print(day)\n",
    "    rdplot.plot_relative_beta_one_day(day, 'plots/relative_beta_rat_day/rbeta')"
   ]
  },
  {
   "cell_type": "code",
   "execution_count": null,
   "metadata": {},
   "outputs": [],
   "source": []
  }
 ],
 "metadata": {
  "interpreter": {
   "hash": "75aabafc8459505f3d11f3bf65d7703e8f22251d44e64c91c4dfa232af0c99ec"
  },
  "kernelspec": {
   "display_name": "Python 3.9.5 ('venv': venv)",
   "language": "python",
   "name": "python3"
  },
  "language_info": {
   "codemirror_mode": {
    "name": "ipython",
    "version": 3
   },
   "file_extension": ".py",
   "mimetype": "text/x-python",
   "name": "python",
   "nbconvert_exporter": "python",
   "pygments_lexer": "ipython3",
   "version": "3.9.5"
  }
 },
 "nbformat": 4,
 "nbformat_minor": 2
}
