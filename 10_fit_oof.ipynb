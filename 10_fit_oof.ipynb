{
 "cells": [
  {
   "cell_type": "code",
   "execution_count": null,
   "metadata": {},
   "outputs": [],
   "source": [
    "from ratdata import data_manager as dm, process, ingest\n",
    "from pathlib import Path\n",
    "import numpy as np\n",
    "import scipy.signal as signal"
   ]
  },
  {
   "cell_type": "code",
   "execution_count": null,
   "metadata": {},
   "outputs": [],
   "source": [
    "dm.db_connect('rat_data.db')"
   ]
  },
  {
   "cell_type": "code",
   "execution_count": null,
   "metadata": {},
   "outputs": [],
   "source": [
    "all_recordings = dm.RecordingFile.select().count()\n",
    "for i, r in enumerate(dm.RecordingFile.select()):\n",
    "    full_filename = Path(r.dirname) / r.filename\n",
    "    data = ingest.read_mce_matlab_file(str(full_filename))\n",
    "    x = np.mean(data.electrode_data, 0)\n",
    "    fs = int(1/data.dt)\n",
    "    ff, pxx = signal.welch(x, fs, nperseg=fs)\n",
    "    m, b = process.fit_oof(ff, pxx, 2, 100)\n",
    "    if r.stim.count() != 0 and r.stim.get().stim_type != 'nostim':\n",
    "        stim = True\n",
    "    else:\n",
    "        stim = False\n",
    "    print('[%d/%d] %s %.2f %d' % (i+1, all_recordings, r.filename, m, stim))\n",
    "        "
   ]
  }
 ],
 "metadata": {
  "interpreter": {
   "hash": "75aabafc8459505f3d11f3bf65d7703e8f22251d44e64c91c4dfa232af0c99ec"
  },
  "kernelspec": {
   "display_name": "Python 3.9.5 ('venv': venv)",
   "language": "python",
   "name": "python3"
  },
  "language_info": {
   "codemirror_mode": {
    "name": "ipython",
    "version": 3
   },
   "file_extension": ".py",
   "mimetype": "text/x-python",
   "name": "python",
   "nbconvert_exporter": "python",
   "pygments_lexer": "ipython3",
   "version": "3.9.5"
  }
 },
 "nbformat": 4,
 "nbformat_minor": 2
}
