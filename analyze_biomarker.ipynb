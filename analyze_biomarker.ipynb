{
 "cells": [
  {
   "cell_type": "code",
   "execution_count": null,
   "metadata": {},
   "outputs": [],
   "source": [
    "from ratdata import data_manager as dm, process, plot as rdplot\n",
    "import matplotlib.pyplot as plt\n",
    "import numpy as np\n",
    "import pickle"
   ]
  },
  {
   "cell_type": "code",
   "execution_count": null,
   "metadata": {},
   "outputs": [],
   "source": [
    "dm.db_connect('rat_data.db')"
   ]
  },
  {
   "cell_type": "code",
   "execution_count": null,
   "metadata": {},
   "outputs": [],
   "source": [
    "rec = dm.RecordingFile.select().where(dm.RecordingFile.filename=='2021-05-24T09-48-46 rat3 - OFT2.mat').get()\n",
    "# rec = dm.RecordingFile.select().where(dm.RecordingFile.filename=='2021-07-16T09-02-07 rat3 OFT2 random.mat').get()\n",
    "# rec = dm.RecordingFile.select().where(dm.RecordingFile.filename=='2021-07-12T09-23-24 rat3 OFT2 on-off.mat').get()\n",
    "# rec = dm.RecordingFile.select().where(dm.RecordingFile.filename=='2021-05-19T08-57-35 rat3 - OFT2 130Hz.mat').get()"
   ]
  },
  {
   "cell_type": "code",
   "execution_count": null,
   "metadata": {},
   "outputs": [],
   "source": [
    "data, dt, time = dm.get_electrode_data_from_recording(rec, select_slice=True)\n",
    "mean_data = np.mean(data, axis=0)\n",
    "fs = int(1/dt)\n",
    "title = 'Biomarker for %s' % rec.filename"
   ]
  },
  {
   "cell_type": "code",
   "execution_count": null,
   "metadata": {},
   "outputs": [],
   "source": [
    "# rdplot.plot_biomarker_steps(mean_data, fs, time=time, plot_title=title)"
   ]
  },
  {
   "cell_type": "code",
   "execution_count": null,
   "metadata": {},
   "outputs": [],
   "source": [
    "perc = 50\n",
    "s, env1, env2 = process.beta_envelope(mean_data, fs, 300)\n",
    "th1 = np.percentile(env1, perc)\n",
    "th2 = np.percentile(env2, perc)\n",
    "bursts1 = process.beta_bursts(env1, th1)\n",
    "bursts2 = process.beta_bursts(env2, th2)\n",
    "print(th1, th2)\n",
    "durations1 = [(e[1] - e[0]) / 300 for e in bursts1]\n",
    "durations2 = [(e[1] - e[0]) / 300 for e in bursts2]\n",
    "amplitudes1 = [e[2] for e in bursts1]\n",
    "amplitudes2 = [e[2] for e in bursts2]\n",
    "plt.figure(figsize=(20, 9))\n",
    "ax1 = plt.subplot2grid((2, 2), (0, 0), colspan=2)\n",
    "ax1.plot(s)\n",
    "ax1.plot(env1)\n",
    "ax1.plot(env2)\n",
    "ax2 = plt.subplot2grid((2, 2), (1, 0))\n",
    "ax2.scatter(durations1, amplitudes1)\n",
    "ax3 = plt.subplot2grid((2, 2), (1, 1))\n",
    "ax3.scatter(durations1, amplitudes1)"
   ]
  },
  {
   "cell_type": "code",
   "execution_count": null,
   "metadata": {},
   "outputs": [],
   "source": [
    "perc = 50\n",
    "for rat in dm.Rat.select():\n",
    "    print(f'{rat.full_label}:')\n",
    "    rat_bursts = dict()\n",
    "    rat_bursts['perc'] = perc\n",
    "    rat_bursts['rat'] = rat.full_label\n",
    "    for s in dm.StimSettings.select(dm.StimSettings.stim_type).distinct():\n",
    "        st = s.stim_type\n",
    "        durations = []\n",
    "        amplitudes = []\n",
    "        print(st, ':')\n",
    "        for recording in dm.RecordingFile.select().join(dm.StimSettings).where((dm.RecordingFile.rat == rat) & (dm.StimSettings.stim_type == st)):\n",
    "            data, dt, time = dm.get_electrode_data_from_recording(recording, select_slice=True)\n",
    "            mean_data = np.mean(data, axis=0)\n",
    "            fs = int(1/dt)\n",
    "            s, env1, _ = process.beta_envelope(mean_data, fs, 300)\n",
    "            th1 = np.percentile(env1, perc)\n",
    "            bursts1 = process.beta_bursts(env1, th1)\n",
    "            durations1 = [(e[1] - e[0]) / 300 for e in bursts1]\n",
    "            amplitudes1 = [e[2] for e in bursts1]\n",
    "            amplitudes.extend(amplitudes1)\n",
    "            durations.extend(durations1)\n",
    "            stim_type = recording.stim.get_or_none().stim_type\n",
    "            print(recording.filename, stim_type)\n",
    "        rat_bursts[st] = {\n",
    "            'amplitudes': amplitudes,\n",
    "            'durations': durations\n",
    "        }\n",
    "    with open(f'data/beta_bursts_{perc}_{rat.full_label}.pickle', 'wb') as f:\n",
    "        pickle.dump(rat_bursts, f)"
   ]
  },
  {
   "cell_type": "code",
   "execution_count": null,
   "metadata": {},
   "outputs": [],
   "source": [
    "for perc in [50, 75]:\n",
    "    for rat in dm.Rat.select():\n",
    "        with open(f'data/beta_bursts_{perc}_{rat.full_label}.pickle', 'rb') as f:\n",
    "            rat_bursts = pickle.load(f)\n",
    "        perc = rat_bursts['perc']\n",
    "        rat_label = rat_bursts['rat']\n",
    "        rat_type = rat.group\n",
    "        rdplot.plot_beta_bursts_one_rat(rat_bursts, rat_type, f'plots/beta_bursts/{perc}_{rat_label}')"
   ]
  }
 ],
 "metadata": {
  "kernelspec": {
   "display_name": "Python 3.9.5 ('venv': venv)",
   "language": "python",
   "name": "python3"
  },
  "language_info": {
   "codemirror_mode": {
    "name": "ipython",
    "version": 3
   },
   "file_extension": ".py",
   "mimetype": "text/x-python",
   "name": "python",
   "nbconvert_exporter": "python",
   "pygments_lexer": "ipython3",
   "version": "3.9.5"
  },
  "vscode": {
   "interpreter": {
    "hash": "71ecfc0ae2bb458425d39bf321c634e8cafd0685753a20a4aa768ea01a8df2c2"
   }
  }
 },
 "nbformat": 4,
 "nbformat_minor": 2
}
